{
 "cells": [
  {
   "cell_type": "code",
   "execution_count": 1,
   "metadata": {},
   "outputs": [],
   "source": [
    "import random\n",
    "\n",
    "def crea_matriz():\n",
    "    #Crea tablero\n",
    "    board = [[0] * 10 for _ in range(10)]\n",
    "\n",
    "    mar_con_barco = []\n",
    "\n",
    "    # crea barcos\n",
    "    largo_barcos = [1,1,1,1,2,2,2,3,3,4]\n",
    "    \n",
    "    for largo in largo_barcos:\n",
    "        \n",
    "        orientacion = random.choice(['horizontal', 'vertical'])\n",
    "\n",
    "        if orientacion == 'horizontal':\n",
    "            \n",
    "            x = random.randint(0, 9)\n",
    "            y = random.randint(0, 9 - largo + 1)\n",
    "            posiciones = [(x, y+i) for i in range(largo)]\n",
    "        else:  \n",
    "            \n",
    "            x = random.randint(0, 9 - largo + 1)\n",
    "            y = random.randint(0, 9)\n",
    "            posiciones = [(x+i, y) for i in range(largo)]\n",
    "\n",
    "        # Que no se pisen los barcos\n",
    "        if any(pos in mar_con_barco for pos in posiciones):\n",
    "           \n",
    "            return crea_matriz()\n",
    "\n",
    "        # pone el barco\n",
    "        for pos in posiciones:\n",
    "            board[pos[0]][pos[1]] = 1\n",
    "\n",
    "        # actualiza posiciones\n",
    "        mar_con_barco.extend(posiciones)\n",
    "\n",
    "    return board\n",
    "\n"
   ]
  },
  {
   "cell_type": "code",
   "execution_count": 2,
   "metadata": {},
   "outputs": [],
   "source": [
    "def dispara_barco(board, x, y):\n",
    "    # Pone X si dispara a un barco\n",
    "    if board[x][y] == 1:\n",
    "        print(\"Chao barco!\")\n",
    "        board[x][y] = 'X' \n",
    "        return True\n",
    "    else:\n",
    "        print(\"Fallaste!\")\n",
    "        return False"
   ]
  },
  {
   "cell_type": "code",
   "execution_count": 3,
   "metadata": {},
   "outputs": [],
   "source": [
    "def loop_disparos(board):\n",
    "    disparos = 0  # numero de disparos\n",
    "    while True:\n",
    "        x = int(input(\"Pon el numero de fila: \"))\n",
    "        y = int(input(\"Pon el numero de columna: \"))\n",
    "\n",
    "        if x < 0 or x > 9 or y < 0 or y > 9:\n",
    "            print(\"Se acabo el mar, pon numeros del 0 al 9\")\n",
    "            continue\n",
    "\n",
    "        if dispara_barco(board, x, y):\n",
    "            disparos += 1  \n",
    "            if disparos % 7 == 0:  # Limite 7 disparos\n",
    "                buy_coins = input(\"Has consumido tus 7 disparos. Quieres comprar otros? (Si/No): \")\n",
    "                if buy_coins.lower() == 'Si':\n",
    "                    print(\"Monedas compradas, sigue jugando.\")\n",
    "                else:\n",
    "                    print(\"Necesitas comprar monedas.\")\n",
    "                    break\n",
    "            for row in board:\n",
    "                print(row)\n",
    "        else:\n",
    "            # Si fallas, le toca al otro\n",
    "            print(\"Fallaste!\")\n",
    "            break\n"
   ]
  },
  {
   "cell_type": "code",
   "execution_count": 4,
   "metadata": {},
   "outputs": [],
   "source": [
    "def disparos_maquina(board):\n",
    "    while True:\n",
    "        x = random.randint(0, 9)\n",
    "        y = random.randint(0, 9)\n",
    "\n",
    "        if dispara_barco(board, x, y):\n",
    "            for row in board:\n",
    "                print(row)\n",
    "            break"
   ]
  },
  {
   "cell_type": "code",
   "execution_count": 38,
   "metadata": {},
   "outputs": [
    {
     "name": "stdout",
     "output_type": "stream",
     "text": [
      "3\n",
      "2\n",
      "1\n",
      "Bienvenido a la version Beta de Hundir la Flotax.\n",
      "Fuiste elegido para probar esta primera version del juego.\n",
      "***\n",
      "Para jugar primero se colocaran tus barcos en el mar.\n",
      "La maquina tambien colocara sus barcos de manera aleatoria en el mar.\n",
      "Tu vas a empezar. Vas a escoger las coordenadas de un disparo. Si hundes un barco disparas de nuevo.\n",
      "La maquina tambien intentara hundir uno de tus barcos para jugar de nuevo.\n",
      "El que Hunda la Flotax de su oponente GANA.\n",
      "***\n",
      "Al terminar recibiras una encuesta con tus recomendaciones para mejorar el juego.\n",
      "Te entregaremos una tarjeta Amazon de $30 por tu tiempo. Gracias y buena suerte!\n"
     ]
    }
   ],
   "source": [
    "import time\n",
    "\n",
    "intro = 3\n",
    "\n",
    "for tiempo in range(intro, 0, -1):\n",
    "    print(tiempo)\n",
    "    time.sleep(1)\n",
    "print(\"Bienvenido a la version Beta de Hundir la Flotax.\")\n",
    "time.sleep(2)\n",
    "print(\"Fuiste elegido para probar esta primera version del juego.\")\n",
    "time.sleep(2)\n",
    "print(\"***\")\n",
    "time.sleep(2)\n",
    "print(\"Para jugar primero se colocaran tus barcos en el mar.\")\n",
    "time.sleep(2)\n",
    "print(\"La maquina tambien colocara sus barcos de manera aleatoria en el mar.\")\n",
    "time.sleep(2)\n",
    "print(\"Tu vas a empezar. Vas a escoger las coordenadas de un disparo. Si hundes un barco disparas de nuevo.\")\n",
    "time.sleep(4)\n",
    "print(\"La maquina tambien intentara hundir uno de tus barcos para jugar de nuevo.\")\n",
    "time.sleep(2)\n",
    "print(\"El que Hunda la Flotax de su oponente GANA.\")\n",
    "time.sleep(2)\n",
    "print(\"***\")\n",
    "time.sleep(2)\n",
    "print(\"Al terminar recibiras una encuesta con tus recomendaciones para mejorar el juego.\")\n",
    "time.sleep(2)\n",
    "print(\"Te entregaremos una tarjeta Amazon de $30 por tu tiempo. Gracias y buena suerte!\")\n",
    "time.sleep(2)"
   ]
  },
  {
   "cell_type": "code",
   "execution_count": 39,
   "metadata": {},
   "outputs": [
    {
     "name": "stdout",
     "output_type": "stream",
     "text": [
      "Ahora empezamos. Tienes 10 barcos que se colocaran aleatoriamente en el mar.\n"
     ]
    }
   ],
   "source": [
    "print(\"Ahora empezamos. Tienes 10 barcos que se colocaran aleatoriamente en el mar.\")\n",
    "time.sleep(2)"
   ]
  },
  {
   "cell_type": "code",
   "execution_count": 5,
   "metadata": {},
   "outputs": [
    {
     "name": "stdout",
     "output_type": "stream",
     "text": [
      "[0, 1, 1, 1, 1, 0, 0, 0, 1, 0]\n",
      "[0, 0, 0, 0, 1, 1, 1, 0, 0, 0]\n",
      "[0, 1, 1, 0, 1, 0, 0, 1, 0, 0]\n",
      "[0, 0, 0, 0, 0, 0, 0, 0, 0, 0]\n",
      "[0, 0, 1, 0, 0, 0, 0, 0, 0, 0]\n",
      "[0, 0, 0, 0, 0, 0, 0, 0, 0, 0]\n",
      "[0, 0, 0, 0, 0, 0, 0, 1, 0, 0]\n",
      "[0, 0, 0, 0, 0, 0, 0, 1, 0, 0]\n",
      "[0, 0, 1, 1, 1, 1, 0, 0, 0, 0]\n",
      "[0, 0, 1, 0, 0, 0, 0, 0, 0, 0]\n"
     ]
    }
   ],
   "source": [
    "board = crea_matriz()\n",
    "for row in board:\n",
    "    print(row)"
   ]
  },
  {
   "cell_type": "code",
   "execution_count": 41,
   "metadata": {},
   "outputs": [
    {
     "name": "stdout",
     "output_type": "stream",
     "text": [
      "Es tu turno de disparar primero. Recuerda que si aciertas, puedes volver a disparar. Buena suerte!\n"
     ]
    }
   ],
   "source": [
    "print(\"Es tu turno de disparar primero. Recuerda que si aciertas, puedes volver a disparar. Buena suerte!\")\n",
    "time.sleep(2)"
   ]
  },
  {
   "cell_type": "code",
   "execution_count": 6,
   "metadata": {},
   "outputs": [
    {
     "name": "stdout",
     "output_type": "stream",
     "text": [
      "Chao barco!\n",
      "[0, 1, 1, 1, 1, 0, 0, 0, 1, 0]\n",
      "[0, 0, 0, 0, 1, 1, 1, 0, 0, 0]\n",
      "[0, 1, 1, 0, 1, 0, 0, 1, 0, 0]\n",
      "[0, 0, 0, 0, 0, 0, 0, 0, 0, 0]\n",
      "[0, 0, 'X', 0, 0, 0, 0, 0, 0, 0]\n",
      "[0, 0, 0, 0, 0, 0, 0, 0, 0, 0]\n",
      "[0, 0, 0, 0, 0, 0, 0, 1, 0, 0]\n",
      "[0, 0, 0, 0, 0, 0, 0, 1, 0, 0]\n",
      "[0, 0, 1, 1, 1, 1, 0, 0, 0, 0]\n",
      "[0, 0, 1, 0, 0, 0, 0, 0, 0, 0]\n",
      "Fallaste!\n",
      "Fallaste!\n",
      "Le toca a la maquina:\n",
      "Fallaste!\n",
      "Fallaste!\n",
      "Fallaste!\n",
      "Fallaste!\n",
      "Fallaste!\n",
      "Fallaste!\n",
      "Fallaste!\n",
      "Fallaste!\n",
      "Fallaste!\n",
      "Fallaste!\n",
      "Chao barco!\n",
      "[0, 1, 1, 'X', 1, 0, 0, 0, 1, 0]\n",
      "[0, 0, 0, 0, 1, 1, 1, 0, 0, 0]\n",
      "[0, 1, 1, 0, 1, 0, 0, 1, 0, 0]\n",
      "[0, 0, 0, 0, 0, 0, 0, 0, 0, 0]\n",
      "[0, 0, 'X', 0, 0, 0, 0, 0, 0, 0]\n",
      "[0, 0, 0, 0, 0, 0, 0, 0, 0, 0]\n",
      "[0, 0, 0, 0, 0, 0, 0, 1, 0, 0]\n",
      "[0, 0, 0, 0, 0, 0, 0, 1, 0, 0]\n",
      "[0, 0, 1, 1, 1, 1, 0, 0, 0, 0]\n",
      "[0, 0, 1, 0, 0, 0, 0, 0, 0, 0]\n"
     ]
    }
   ],
   "source": [
    "loop_disparos(board)\n",
    "print(\"Le toca a la maquina:\")\n",
    "disparos_maquina(board)"
   ]
  }
 ],
 "metadata": {
  "kernelspec": {
   "display_name": "EDA_ENV",
   "language": "python",
   "name": "python3"
  },
  "language_info": {
   "codemirror_mode": {
    "name": "ipython",
    "version": 3
   },
   "file_extension": ".py",
   "mimetype": "text/x-python",
   "name": "python",
   "nbconvert_exporter": "python",
   "pygments_lexer": "ipython3",
   "version": "3.10.14"
  }
 },
 "nbformat": 4,
 "nbformat_minor": 2
}
