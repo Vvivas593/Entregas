{
 "cells": [
  {
   "cell_type": "code",
   "execution_count": 17,
   "metadata": {},
   "outputs": [
    {
     "name": "stdout",
     "output_type": "stream",
     "text": [
      "3\n",
      "2\n",
      "1\n",
      "Bienvenido a la version Beta de Hundir la Flotax.\n",
      "Fuiste elegido para probar esta primera version del juego.\n",
      "***\n",
      "Para jugar primero deberas colocar tus barcos en el mar.\n",
      "La maquina tambien colocara sus barcos de manera aleatoria en el mar.\n",
      "Tu vas a empezar. Vas a escoger las coordenadas de un disparo. Si hundes un barco disparas de nuevo.\n",
      "La maquina tambien intentara hundir uno de tus barcos para jugar de nuevo.\n",
      "El que Hunda la Flotax de su oponente GANA.\n",
      "***\n",
      "Al terminar recibiras una encuesta con tus recomendaciones para mejorar el juego.\n",
      "Te entregaremos una tarjeta Amazon de $30 por tu tiempo. Gracias y buena suerte!\n"
     ]
    }
   ],
   "source": [
    "import time\n",
    "\n",
    "intro = 3\n",
    "\n",
    "for tiempo in range(intro, 0, -1):\n",
    "    print(tiempo)\n",
    "    time.sleep(1)\n",
    "print(\"Bienvenido a la version Beta de Hundir la Flotax.\")\n",
    "time.sleep(2)\n",
    "print(\"Fuiste elegido para probar esta primera version del juego.\")\n",
    "time.sleep(2)\n",
    "print(\"***\")\n",
    "time.sleep(2)\n",
    "print(\"Para jugar primero deberas colocar tus barcos en el mar.\")\n",
    "time.sleep(2)\n",
    "print(\"La maquina tambien colocara sus barcos de manera aleatoria en el mar.\")\n",
    "time.sleep(2)\n",
    "print(\"Tu vas a empezar. Vas a escoger las coordenadas de un disparo. Si hundes un barco disparas de nuevo.\")\n",
    "time.sleep(4)\n",
    "print(\"La maquina tambien intentara hundir uno de tus barcos para jugar de nuevo.\")\n",
    "time.sleep(2)\n",
    "print(\"El que Hunda la Flotax de su oponente GANA.\")\n",
    "time.sleep(2)\n",
    "print(\"***\")\n",
    "time.sleep(2)\n",
    "print(\"Al terminar recibiras una encuesta con tus recomendaciones para mejorar el juego.\")\n",
    "time.sleep(2)\n",
    "print(\"Te entregaremos una tarjeta Amazon de $30 por tu tiempo. Gracias y buena suerte!\")\n",
    "time.sleep(2)\n",
    "    \n",
    "    "
   ]
  },
  {
   "cell_type": "code",
   "execution_count": 40,
   "metadata": {},
   "outputs": [
    {
     "name": "stdout",
     "output_type": "stream",
     "text": [
      "Ahora empezamos. Escoge donde ubicaras tus barcos. Los puntos (.) de tu tablero son mar.\n",
      "Tienes 10 barcos: 4 con una posicion de eslora, 3 barcos de 2 posiciones, 2 barcos de 3 posiciones y 1 barco de 4 posiciones.\n",
      "Tus barcos se marcaran con un @\n"
     ]
    }
   ],
   "source": [
    "print(\"Ahora empezamos. Escoge donde ubicaras tus barcos. Los puntos (.) de tu tablero son mar.\")\n",
    "time.sleep(2)\n",
    "print(\"Tienes 10 barcos: 4 con una posicion de eslora, 3 barcos de 2 posiciones, 2 barcos de 3 posiciones y 1 barco de 4 posiciones.\")\n",
    "time.sleep(5)\n",
    "print(\"Tus barcos se marcaran con un @\")\n",
    "time.sleep(2)"
   ]
  },
  {
   "cell_type": "code",
   "execution_count": 272,
   "metadata": {},
   "outputs": [
    {
     "data": {
      "text/plain": [
       "array([[' ', ' ', ' ', ' ', ' ', ' ', ' ', ' ', ' ', ' '],\n",
       "       [' ', ' ', ' ', ' ', ' ', ' ', ' ', ' ', ' ', ' '],\n",
       "       [' ', ' ', ' ', ' ', ' ', ' ', ' ', ' ', ' ', ' '],\n",
       "       [' ', ' ', ' ', ' ', ' ', ' ', ' ', ' ', ' ', ' '],\n",
       "       [' ', ' ', ' ', ' ', ' ', ' ', ' ', ' ', ' ', ' '],\n",
       "       [' ', ' ', ' ', ' ', ' ', ' ', ' ', ' ', ' ', ' '],\n",
       "       [' ', ' ', ' ', ' ', ' ', ' ', ' ', ' ', ' ', ' '],\n",
       "       [' ', ' ', ' ', ' ', ' ', ' ', ' ', ' ', ' ', ' '],\n",
       "       [' ', ' ', ' ', ' ', ' ', ' ', ' ', ' ', ' ', ' '],\n",
       "       [' ', ' ', ' ', ' ', ' ', ' ', ' ', ' ', ' ', ' ']], dtype='<U1')"
      ]
     },
     "execution_count": 272,
     "metadata": {},
     "output_type": "execute_result"
    }
   ],
   "source": [
    "import numpy as np\n",
    "mar_1= np.full((10,10), \" \")\n",
    "mar_1"
   ]
  },
  {
   "cell_type": "code",
   "execution_count": 273,
   "metadata": {},
   "outputs": [
    {
     "name": "stdout",
     "output_type": "stream",
     "text": [
      "Empieza colocando 4 barcos de una posicion de eslora.\n"
     ]
    },
    {
     "data": {
      "text/plain": [
       "array([[' ', '@', ' ', ' ', ' ', ' ', ' ', ' ', ' ', ' '],\n",
       "       [' ', ' ', ' ', ' ', ' ', ' ', ' ', ' ', ' ', ' '],\n",
       "       [' ', ' ', ' ', ' ', ' ', ' ', ' ', ' ', ' ', ' '],\n",
       "       [' ', ' ', ' ', ' ', ' ', ' ', ' ', ' ', ' ', ' '],\n",
       "       [' ', ' ', ' ', ' ', ' ', ' ', ' ', ' ', ' ', ' '],\n",
       "       [' ', ' ', ' ', ' ', ' ', '@', ' ', ' ', ' ', ' '],\n",
       "       [' ', ' ', ' ', '@', ' ', ' ', ' ', ' ', ' ', ' '],\n",
       "       [' ', ' ', ' ', ' ', ' ', ' ', ' ', ' ', ' ', ' '],\n",
       "       [' ', ' ', ' ', ' ', ' ', ' ', ' ', ' ', ' ', ' '],\n",
       "       [' ', ' ', ' ', ' ', ' ', ' ', ' ', '@', ' ', ' ']], dtype='<U1')"
      ]
     },
     "execution_count": 273,
     "metadata": {},
     "output_type": "execute_result"
    }
   ],
   "source": [
    "print(\"Empieza colocando 4 barcos de una posicion de eslora.\")\n",
    "time.sleep(2)\n",
    "\n",
    "mar_1[(0,1)] = \"@\"\n",
    "mar_1[(5,5)] = \"@\"\n",
    "mar_1[(9,7)] = \"@\"\n",
    "mar_1[(6,3)] = \"@\"\n",
    "mar_1"
   ]
  },
  {
   "cell_type": "code",
   "execution_count": 274,
   "metadata": {},
   "outputs": [
    {
     "name": "stdout",
     "output_type": "stream",
     "text": [
      "Ahora coloca 3 barcos de dos posiciones de eslora.\n"
     ]
    },
    {
     "data": {
      "text/plain": [
       "array([[' ', '@', ' ', ' ', ' ', ' ', ' ', '@', '@', ' '],\n",
       "       [' ', ' ', ' ', ' ', ' ', ' ', ' ', ' ', ' ', ' '],\n",
       "       [' ', ' ', '@', '@', ' ', ' ', ' ', ' ', ' ', ' '],\n",
       "       [' ', ' ', ' ', ' ', ' ', '@', '@', ' ', ' ', ' '],\n",
       "       [' ', ' ', ' ', ' ', ' ', ' ', ' ', ' ', ' ', ' '],\n",
       "       [' ', ' ', ' ', ' ', ' ', '@', ' ', ' ', ' ', ' '],\n",
       "       [' ', ' ', ' ', '@', ' ', ' ', ' ', ' ', ' ', ' '],\n",
       "       [' ', ' ', ' ', ' ', ' ', ' ', ' ', ' ', ' ', ' '],\n",
       "       [' ', ' ', ' ', ' ', ' ', ' ', ' ', ' ', ' ', ' '],\n",
       "       [' ', ' ', ' ', ' ', ' ', ' ', ' ', '@', ' ', ' ']], dtype='<U1')"
      ]
     },
     "execution_count": 274,
     "metadata": {},
     "output_type": "execute_result"
    }
   ],
   "source": [
    "print(\"Ahora coloca 3 barcos de dos posiciones de eslora.\")\n",
    "time.sleep(2)\n",
    "\n",
    "mar_1[(2,2),(3,2)] = \"@\"\n",
    "mar_1[(0,0),(8,7)] = \"@\"\n",
    "mar_1[(3,3),(6,5)] = \"@\"\n",
    "\n",
    "mar_1"
   ]
  },
  {
   "cell_type": "code",
   "execution_count": 275,
   "metadata": {},
   "outputs": [
    {
     "name": "stdout",
     "output_type": "stream",
     "text": [
      "Ahora coloca 2 barcos de tres posiciones de eslora.\n"
     ]
    },
    {
     "data": {
      "text/plain": [
       "array([[' ', '@', ' ', ' ', ' ', ' ', ' ', '@', '@', ' '],\n",
       "       [' ', ' ', ' ', ' ', ' ', ' ', ' ', ' ', ' ', ' '],\n",
       "       [' ', ' ', '@', '@', ' ', ' ', ' ', ' ', ' ', ' '],\n",
       "       [' ', ' ', ' ', ' ', ' ', '@', '@', ' ', ' ', ' '],\n",
       "       [' ', '@', '@', '@', ' ', ' ', ' ', ' ', ' ', ' '],\n",
       "       [' ', ' ', ' ', ' ', ' ', '@', ' ', ' ', ' ', ' '],\n",
       "       [' ', ' ', ' ', '@', ' ', ' ', ' ', ' ', ' ', ' '],\n",
       "       [' ', ' ', ' ', ' ', ' ', '@', '@', '@', ' ', ' '],\n",
       "       [' ', ' ', ' ', ' ', ' ', ' ', ' ', ' ', ' ', ' '],\n",
       "       [' ', ' ', ' ', ' ', ' ', ' ', ' ', '@', ' ', ' ']], dtype='<U1')"
      ]
     },
     "execution_count": 275,
     "metadata": {},
     "output_type": "execute_result"
    }
   ],
   "source": [
    "print(\"Ahora coloca 2 barcos de tres posiciones de eslora.\")\n",
    "time.sleep(2)\n",
    "\n",
    "mar_1[7:8,5:8] = \"@\"\n",
    "mar_1[4:5,1:4] = \"@\" \n",
    "\n",
    "mar_1"
   ]
  },
  {
   "cell_type": "code",
   "execution_count": 276,
   "metadata": {},
   "outputs": [
    {
     "name": "stdout",
     "output_type": "stream",
     "text": [
      "Ya casi estamos listos. Ahora coloca 1 barco con 4 posiciones de eslora.\n"
     ]
    },
    {
     "data": {
      "text/plain": [
       "array([[' ', '@', ' ', ' ', ' ', ' ', ' ', '@', '@', ' '],\n",
       "       [' ', ' ', ' ', ' ', ' ', ' ', ' ', ' ', ' ', ' '],\n",
       "       [' ', ' ', '@', '@', ' ', ' ', ' ', ' ', ' ', ' '],\n",
       "       [' ', ' ', ' ', ' ', ' ', '@', '@', ' ', ' ', ' '],\n",
       "       [' ', '@', '@', '@', ' ', ' ', ' ', ' ', ' ', ' '],\n",
       "       [' ', ' ', ' ', ' ', ' ', '@', ' ', ' ', ' ', ' '],\n",
       "       [' ', ' ', ' ', '@', ' ', ' ', ' ', ' ', ' ', ' '],\n",
       "       [' ', ' ', ' ', ' ', ' ', '@', '@', '@', ' ', ' '],\n",
       "       ['@', '@', '@', '@', ' ', ' ', ' ', ' ', ' ', ' '],\n",
       "       [' ', ' ', ' ', ' ', ' ', ' ', ' ', '@', ' ', ' ']], dtype='<U1')"
      ]
     },
     "execution_count": 276,
     "metadata": {},
     "output_type": "execute_result"
    }
   ],
   "source": [
    "print(\"Ya casi estamos listos. Ahora coloca 1 barco con 4 posiciones de eslora.\")\n",
    "time.sleep(2)\n",
    "\n",
    "mar_1[8:9,0:4] = \"@\"\n",
    "\n",
    "\n",
    "mar_1"
   ]
  },
  {
   "cell_type": "code",
   "execution_count": 277,
   "metadata": {},
   "outputs": [
    {
     "name": "stdout",
     "output_type": "stream",
     "text": [
      "Listo! ahora es tiempo de que la maquina coloque sus 10 barcos.\n"
     ]
    }
   ],
   "source": [
    "print(\"Listo! ahora es tiempo de que la maquina coloque sus 10 barcos.\")\n",
    "time.sleep(2)"
   ]
  },
  {
   "cell_type": "code",
   "execution_count": 297,
   "metadata": {},
   "outputs": [
    {
     "data": {
      "text/plain": [
       "array([[' ', ' ', ' ', ' ', ' ', ' ', ' ', ' ', ' ', ' '],\n",
       "       [' ', '$', '$', ' ', ' ', ' ', ' ', ' ', '$', '$'],\n",
       "       [' ', ' ', ' ', ' ', '$', ' ', '$', ' ', ' ', ' '],\n",
       "       [' ', ' ', ' ', ' ', ' ', ' ', ' ', ' ', ' ', ' '],\n",
       "       [' ', ' ', ' ', ' ', ' ', ' ', ' ', '$', '$', '$'],\n",
       "       [' ', ' ', ' ', ' ', ' ', ' ', ' ', ' ', ' ', ' '],\n",
       "       ['$', '$', '$', ' ', '$', ' ', '$', ' ', ' ', ' '],\n",
       "       [' ', ' ', ' ', ' ', ' ', ' ', ' ', ' ', ' ', ' '],\n",
       "       [' ', ' ', ' ', '$', '$', '$', '$', ' ', ' ', ' '],\n",
       "       [' ', ' ', ' ', ' ', ' ', ' ', ' ', ' ', '$', '$']], dtype='<U1')"
      ]
     },
     "execution_count": 297,
     "metadata": {},
     "output_type": "execute_result"
    }
   ],
   "source": [
    "mar_2= np.full((10,10), \" \") #tablero de la maquina\n",
    "\n",
    "mar_2[(2,4)] = \"$\"\n",
    "mar_2[(2,6)] = \"$\"\n",
    "mar_2[(6,4)] = \"$\"\n",
    "mar_2[(6,6)] = \"$\"\n",
    "\n",
    "mar_2[(1,1),(1,2)] = \"$\"\n",
    "mar_2[(1,1),(8,9)] = \"$\"\n",
    "mar_2[(9,9),(8,9)] = \"$\"\n",
    "\n",
    "mar_2[6:7,0:3] = \"$\"\n",
    "mar_2[4:5,7:10] = \"$\" \n",
    "\n",
    "mar_2[8:9,3:7] = \"$\"\n",
    "\n",
    "mar_2"
   ]
  },
  {
   "cell_type": "code",
   "execution_count": 293,
   "metadata": {},
   "outputs": [
    {
     "name": "stdout",
     "output_type": "stream",
     "text": [
      "Es tu turno de disparar primero. Recuerda que si aciertas, puedes volver a disparar. Buena suerte!\n"
     ]
    }
   ],
   "source": [
    "print(\"Es tu turno de disparar primero. Recuerda que si aciertas, puedes volver a disparar. Buena suerte!\")\n",
    "time.sleep(2)"
   ]
  },
  {
   "cell_type": "code",
   "execution_count": 298,
   "metadata": {},
   "outputs": [
    {
     "name": "stdout",
     "output_type": "stream",
     "text": [
      "acertaste, vuelve a disparar!\n"
     ]
    },
    {
     "data": {
      "text/plain": [
       "array([[' ', ' ', ' ', ' ', ' ', ' ', ' ', ' ', ' ', ' '],\n",
       "       [' ', '$', '$', ' ', ' ', ' ', ' ', ' ', '$', '$'],\n",
       "       [' ', ' ', ' ', ' ', '$', ' ', '$', ' ', ' ', ' '],\n",
       "       [' ', ' ', ' ', ' ', ' ', ' ', ' ', ' ', ' ', ' '],\n",
       "       [' ', ' ', ' ', ' ', ' ', ' ', ' ', '$', '$', '$'],\n",
       "       [' ', ' ', ' ', ' ', ' ', ' ', ' ', ' ', ' ', ' '],\n",
       "       ['$', '$', '$', ' ', 'X', ' ', '$', ' ', ' ', ' '],\n",
       "       [' ', ' ', ' ', ' ', ' ', ' ', ' ', ' ', ' ', ' '],\n",
       "       [' ', ' ', ' ', '$', '$', '$', '$', ' ', ' ', ' '],\n",
       "       [' ', ' ', ' ', ' ', ' ', ' ', ' ', ' ', '$', '$']], dtype='<U1')"
      ]
     },
     "execution_count": 298,
     "metadata": {},
     "output_type": "execute_result"
    }
   ],
   "source": [
    "disparo_fila1 = 6\n",
    "disparo_columna1= 4\n",
    "\n",
    "if \"$\" in mar_2[disparo_fila1, disparo_columna1]:\n",
    "    print(\"acertaste, vuelve a disparar!\")\n",
    "    mar_2[disparo_fila1, disparo_columna1] = \"X\"\n",
    "else:\n",
    "    print(\"ahora le toca a la maquina\")\n",
    "    mar_2[disparo_fila1, disparo_columna1] = \"X\"\n",
    "    print(np.count_nonzero(mar_2 == \"$\"))\n",
    "    \n",
    "\n",
    "mar_2"
   ]
  },
  {
   "cell_type": "code",
   "execution_count": 307,
   "metadata": {},
   "outputs": [
    {
     "name": "stdout",
     "output_type": "stream",
     "text": [
      "Ahora le toca a la maquina\n",
      "Quedan 19 cuadriculas por disparar\n"
     ]
    }
   ],
   "source": [
    "disparo_fila1 = 4\n",
    "disparo_columna1= 4\n",
    "\n",
    "if \"$\" in mar_2[disparo_fila1, disparo_columna1]:\n",
    "    print(\"Acertaste, vuelve a disparar!\")\n",
    "    mar_2[disparo_fila1, disparo_columna1] = \"X\"\n",
    "else:\n",
    "    print(\"Ahora le toca a la maquina\")\n",
    "    mar_2[disparo_fila1, disparo_columna1] = \"X\"\n",
    "\n",
    "mar_2\n",
    "\n",
    "disparos_pendientes = np.count_nonzero(mar_2 == \"$\")\n",
    "print (f\"Quedan {disparos_pendientes} cuadriculas por disparar\")\n",
    "# como cuento barcos y no \"@\"   \n",
    "\n"
   ]
  },
  {
   "cell_type": "code",
   "execution_count": 308,
   "metadata": {},
   "outputs": [
    {
     "name": "stdout",
     "output_type": "stream",
     "text": [
      "Es tu turno\n"
     ]
    },
    {
     "data": {
      "text/plain": [
       "array([[' ', '@', ' ', ' ', ' ', ' ', ' ', '@', '@', ' '],\n",
       "       [' ', ' ', ' ', ' ', ' ', ' ', ' ', ' ', ' ', ' '],\n",
       "       [' ', ' ', '@', '@', ' ', ' ', ' ', ' ', ' ', ' '],\n",
       "       [' ', ' ', ' ', ' ', ' ', 'X', '@', ' ', ' ', ' '],\n",
       "       [' ', '@', '@', '@', ' ', ' ', ' ', ' ', ' ', ' '],\n",
       "       [' ', ' ', ' ', ' ', ' ', '@', ' ', ' ', ' ', ' '],\n",
       "       [' ', 'X', ' ', '@', ' ', ' ', ' ', ' ', ' ', ' '],\n",
       "       [' ', ' ', ' ', ' ', ' ', '@', '@', '@', ' ', ' '],\n",
       "       ['@', '@', '@', '@', ' ', ' ', ' ', ' ', ' ', ' '],\n",
       "       [' ', ' ', ' ', ' ', ' ', ' ', ' ', '@', ' ', ' ']], dtype='<U1')"
      ]
     },
     "execution_count": 308,
     "metadata": {},
     "output_type": "execute_result"
    }
   ],
   "source": [
    "import numpy as np\n",
    "\n",
    "while np.count_nonzero(mar_1 == \"@\") > 0:\n",
    "#mientras existan barcos \"@\", la maquina dispara:\n",
    "\n",
    "    disparo_fila = np.random.randint(0,9,1)\n",
    "    disparo_columna = np.random.randint(0,9,1)\n",
    "    mar_1[disparo_fila, disparo_columna] = \"X\"\n",
    "    #La maquina dispara aleatoriamente dentro de las coordenadas 0,0 - 9,9\n",
    "\n",
    "    if \"@\" in mar_1[disparo_fila, disparo_columna]:\n",
    "        disparo_fila = np.random.randint(0,9,1)\n",
    "        disparo_columna = np.random.randint(0,9,1)\n",
    "        mar_1[disparo_fila, disparo_columna] = \"X\"\n",
    "        #Si el disparo aleatorio es sobre un barco, vuelve a disparar\n",
    "    else:\n",
    "        print(\"Es tu turno\")\n",
    "        #Si no acierta, notifica a la persona que es su turno de disparar\n",
    "        break \n",
    "\n",
    "mar_1\n"
   ]
  }
 ],
 "metadata": {
  "kernelspec": {
   "display_name": "EDA_ENV",
   "language": "python",
   "name": "python3"
  },
  "language_info": {
   "codemirror_mode": {
    "name": "ipython",
    "version": 3
   },
   "file_extension": ".py",
   "mimetype": "text/x-python",
   "name": "python",
   "nbconvert_exporter": "python",
   "pygments_lexer": "ipython3",
   "version": "3.10.14"
  }
 },
 "nbformat": 4,
 "nbformat_minor": 2
}
