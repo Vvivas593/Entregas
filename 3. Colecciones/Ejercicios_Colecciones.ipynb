{
 "cells": [
  {
   "cell_type": "markdown",
   "metadata": {},
   "source": [
    "![imagen](./img/ejercicios.png)"
   ]
  },
  {
   "cell_type": "markdown",
   "metadata": {},
   "source": [
    "## Ejercicio 1\n",
    "Dada la siguiente lista:\n",
    "> ```ejer_1 = [1,2,3,4,5]```\n",
    "\n",
    "Inviértela para que quede de la siguiente manera\n",
    "> ```ejer_1 = [5,4,3,2,1]```"
   ]
  },
  {
   "cell_type": "code",
   "execution_count": 7,
   "metadata": {},
   "outputs": [
    {
     "name": "stdout",
     "output_type": "stream",
     "text": [
      "[5, 4, 3, 2, 1]\n"
     ]
    }
   ],
   "source": [
    "ejer_1 = [1,2,3,4,5]\n",
    "ejer_1.reverse()\n",
    "print(ejer_1)\n",
    "\n"
   ]
  },
  {
   "cell_type": "code",
   "execution_count": 37,
   "metadata": {},
   "outputs": [
    {
     "data": {
      "text/plain": [
       "[5, 4, 3, 2, 1]"
      ]
     },
     "execution_count": 37,
     "metadata": {},
     "output_type": "execute_result"
    }
   ],
   "source": [
    "ejer_1 = [1,2,3,4,5]\n",
    "ejer_1= ejer_1[::-1]\n",
    "ejer_1"
   ]
  },
  {
   "cell_type": "code",
   "execution_count": 38,
   "metadata": {},
   "outputs": [
    {
     "data": {
      "text/plain": [
       "[1, 2, 3, 4, 5]"
      ]
     },
     "execution_count": 38,
     "metadata": {},
     "output_type": "execute_result"
    }
   ],
   "source": [
    "list(reversed(ejer_1))"
   ]
  },
  {
   "cell_type": "markdown",
   "metadata": {},
   "source": [
    "## Ejercicio 2\n",
    "Eleva todos los elementos de la lista al cuadrado\n",
    "> ```ejer_2 = [1,2,3,4,5]```"
   ]
  },
  {
   "cell_type": "code",
   "execution_count": 3,
   "metadata": {},
   "outputs": [
    {
     "name": "stdout",
     "output_type": "stream",
     "text": [
      "[1, 4, 9, 16, 25]\n"
     ]
    }
   ],
   "source": [
    "ejer_2 = [1,2,3,4,5]\n",
    "ejer_cuadrado = [n**2 for n in ejer_2]\n",
    "print (ejer_cuadrado)\n"
   ]
  },
  {
   "cell_type": "code",
   "execution_count": 41,
   "metadata": {},
   "outputs": [
    {
     "name": "stdout",
     "output_type": "stream",
     "text": [
      "1\n"
     ]
    },
    {
     "ename": "AttributeError",
     "evalue": "'list' object has no attribute 'apped'",
     "output_type": "error",
     "traceback": [
      "\u001b[1;31m---------------------------------------------------------------------------\u001b[0m",
      "\u001b[1;31mAttributeError\u001b[0m                            Traceback (most recent call last)",
      "Cell \u001b[1;32mIn[41], line 5\u001b[0m\n\u001b[0;32m      3\u001b[0m \u001b[38;5;28;01mfor\u001b[39;00m elemento \u001b[38;5;129;01min\u001b[39;00m ejer_2:\n\u001b[0;32m      4\u001b[0m     \u001b[38;5;28mprint\u001b[39m(elemento\u001b[38;5;241m*\u001b[39m\u001b[38;5;241m*\u001b[39m\u001b[38;5;241m2\u001b[39m)\n\u001b[1;32m----> 5\u001b[0m     \u001b[43mnueva_lista\u001b[49m\u001b[38;5;241;43m.\u001b[39;49m\u001b[43mapped\u001b[49m(elemento\u001b[38;5;241m*\u001b[39m\u001b[38;5;241m*\u001b[39m\u001b[38;5;241m2\u001b[39m)\n\u001b[0;32m      6\u001b[0m nueva_lista\n",
      "\u001b[1;31mAttributeError\u001b[0m: 'list' object has no attribute 'apped'"
     ]
    }
   ],
   "source": [
    "ejer_2 = [1,2,3,4,5]\n",
    "nueva_lista=[]\n",
    "for elemento in ejer_2:\n",
    "    print(elemento**2)\n",
    "    nueva_lista.apped(elemento**2)\n",
    "nueva_lista"
   ]
  },
  {
   "cell_type": "markdown",
   "metadata": {},
   "source": [
    "## Ejercicio 3\n",
    "Crea una lista nueva con todas las combinaciones de las siguientes dos listas:\n",
    "> ```ejer_3_1 = [\"Hola\", \"amigo\"]```\n",
    ">\n",
    "> ```ejer_3_2 = [\"Que\", \"tal\"]```\n",
    "\n",
    "Obten el siguiente output:\n",
    "\n",
    "```['Hola Que', 'Hola tal', 'amigo Que', 'amigo tal']```"
   ]
  },
  {
   "cell_type": "code",
   "execution_count": 8,
   "metadata": {},
   "outputs": [
    {
     "data": {
      "text/plain": [
       "['Hola', 'amigo', 'Que', 'tal']"
      ]
     },
     "execution_count": 8,
     "metadata": {},
     "output_type": "execute_result"
    }
   ],
   "source": [
    "ejer_3_1 = [\"Hola\", \"amigo\"]\n",
    "ejer_3_2 = [\"Que\", \"tal\"]\n",
    "\n",
    "ejer_3_1 + ejer_3_2\n",
    "\n",
    "\n"
   ]
  },
  {
   "cell_type": "code",
   "execution_count": 42,
   "metadata": {},
   "outputs": [
    {
     "data": {
      "text/plain": [
       "['Hola Que', 'Hola tal', 'amigo Que', 'amigo tal']"
      ]
     },
     "execution_count": 42,
     "metadata": {},
     "output_type": "execute_result"
    }
   ],
   "source": [
    "ejer_3_1 = [\"Hola\", \"amigo\"]\n",
    "ejer_3_2 = [\"Que\", \"tal\"]\n",
    "\n",
    "output =[]\n",
    "for elemento_1 in ejer_3_1:\n",
    "    for elemento_2 in ejer_3_2:\n",
    "        output.append(elemento_1+\" \"+elemento_2)\n",
    "output"
   ]
  },
  {
   "attachments": {},
   "cell_type": "markdown",
   "metadata": {},
   "source": [
    "## Ejercicio 4\n",
    "Dada la siguiente lista, encuentra por el índice el valor 45 y sustitúyelo por el 0\n",
    "> ```ejer_4 = [20, 47, 19, 29, 45, 67, 78, 90]```"
   ]
  },
  {
   "cell_type": "code",
   "execution_count": 50,
   "metadata": {},
   "outputs": [
    {
     "ename": "TypeError",
     "evalue": "index expected at least 1 argument, got 0",
     "output_type": "error",
     "traceback": [
      "\u001b[1;31m---------------------------------------------------------------------------\u001b[0m",
      "\u001b[1;31mTypeError\u001b[0m                                 Traceback (most recent call last)",
      "Cell \u001b[1;32mIn[50], line 2\u001b[0m\n\u001b[0;32m      1\u001b[0m lista\u001b[38;5;241m=\u001b[39m[\u001b[38;5;241m20\u001b[39m,\u001b[38;5;241m47\u001b[39m,\u001b[38;5;241m19\u001b[39m,\u001b[38;5;241m29\u001b[39m,\u001b[38;5;241m45\u001b[39m,\u001b[38;5;241m67\u001b[39m,\u001b[38;5;241m78\u001b[39m,\u001b[38;5;241m90\u001b[39m]\n\u001b[1;32m----> 2\u001b[0m \u001b[43mlista\u001b[49m\u001b[38;5;241;43m.\u001b[39;49m\u001b[43mindex\u001b[49m\u001b[43m(\u001b[49m\u001b[43m)\u001b[49m\n\u001b[0;32m      3\u001b[0m resultado \u001b[38;5;241m=\u001b[39m lista\u001b[38;5;241m.\u001b[39mreplace(\u001b[38;5;124m\"\u001b[39m\u001b[38;5;124m45\u001b[39m\u001b[38;5;124m\"\u001b[39m,\u001b[38;5;124m\"\u001b[39m\u001b[38;5;124m0\u001b[39m\u001b[38;5;124m\"\u001b[39m)\n\u001b[0;32m      4\u001b[0m \u001b[38;5;28mprint\u001b[39m(resultado)\n",
      "\u001b[1;31mTypeError\u001b[0m: index expected at least 1 argument, got 0"
     ]
    }
   ],
   "source": [
    "lista=[20,47,19,29,45,67,78,90]\n",
    "lista.index()\n",
    "resultado = lista.replace(\"45\",\"0\")\n",
    "print(resultado)\n"
   ]
  },
  {
   "cell_type": "code",
   "execution_count": 49,
   "metadata": {},
   "outputs": [
    {
     "ename": "AttributeError",
     "evalue": "'list' object has no attribute 'replace'",
     "output_type": "error",
     "traceback": [
      "\u001b[1;31m---------------------------------------------------------------------------\u001b[0m",
      "\u001b[1;31mAttributeError\u001b[0m                            Traceback (most recent call last)",
      "Cell \u001b[1;32mIn[49], line 2\u001b[0m\n\u001b[0;32m      1\u001b[0m lista\u001b[38;5;241m=\u001b[39m[\u001b[38;5;241m20\u001b[39m,\u001b[38;5;241m47\u001b[39m,\u001b[38;5;241m19\u001b[39m,\u001b[38;5;241m29\u001b[39m,\u001b[38;5;241m45\u001b[39m,\u001b[38;5;241m67\u001b[39m,\u001b[38;5;241m78\u001b[39m,\u001b[38;5;241m90\u001b[39m]\n\u001b[1;32m----> 2\u001b[0m \u001b[38;5;28mlist\u001b[39m(\u001b[38;5;28mstr\u001b[39m(\u001b[43mlista\u001b[49m\u001b[38;5;241;43m.\u001b[39;49m\u001b[43mreplace\u001b[49m(\u001b[38;5;124m\"\u001b[39m\u001b[38;5;124m45\u001b[39m\u001b[38;5;124m\"\u001b[39m,\u001b[38;5;124m\"\u001b[39m\u001b[38;5;124m0\u001b[39m\u001b[38;5;124m\"\u001b[39m)))\n\u001b[0;32m      3\u001b[0m lista\n",
      "\u001b[1;31mAttributeError\u001b[0m: 'list' object has no attribute 'replace'"
     ]
    }
   ],
   "source": [
    "lista=[20,47,19,29,45,67,78,90]\n",
    "list(str(lista.replace(\"45\",\"0\")))\n",
    "lista\n",
    "\n",
    "#9.22\n"
   ]
  },
  {
   "cell_type": "markdown",
   "metadata": {},
   "source": [
    "## Ejercicio 5\n",
    "Dada la siguiente lista, elimina todos los valores iguales a 3\n",
    "> ```ejer_5 = [3, 20, 3, 47, 19, 3, 29, 45, 67, 78, 90, 3, 3]```\n",
    "\n",
    "TIP: No intentes eliminar elementos sobre la lista que estás iterando. Haz una copia con `ejer_5.copy()`."
   ]
  },
  {
   "cell_type": "code",
   "execution_count": 16,
   "metadata": {},
   "outputs": [
    {
     "name": "stdout",
     "output_type": "stream",
     "text": [
      "[3, 20, 3, 19, 3, 29, 45, 67, 78, 90, 3, 3]\n",
      "[3, 20, 3, 3, 29, 45, 67, 78, 90, 3, 3]\n",
      "[3, 20, 3, 29, 45, 67, 78, 90, 3, 3]\n",
      "[3, 20, 3, 45, 67, 78, 90, 3, 3]\n",
      "[3, 20, 3, 67, 78, 90, 3, 3]\n",
      "[3, 20, 3, 78, 90, 3, 3]\n",
      "[3, 20, 3, 90, 3, 3]\n"
     ]
    }
   ],
   "source": [
    "ejer_5 = [3, 20, 3, 47, 19, 3, 29, 45, 67, 78, 90, 3, 3]\n",
    "ejer_5.copy()\n",
    "\n",
    "for i in ejer_5:\n",
    "    ejer_5.pop(3)\n",
    "    print(ejer_5)\n"
   ]
  },
  {
   "cell_type": "code",
   "execution_count": 55,
   "metadata": {},
   "outputs": [
    {
     "data": {
      "text/plain": [
       "[20, 47, 19, 29, 45, 67, 78, 90]"
      ]
     },
     "execution_count": 55,
     "metadata": {},
     "output_type": "execute_result"
    }
   ],
   "source": [
    "ejer_5 = [3, 20, 3, 47, 19, 3, 29, 45, 67, 78, 90, 3, 3]\n",
    "\n",
    "for veces in range(0,ejer_5.count(3)):\n",
    "    ejer_5.remove(3)\n",
    "ejer_5"
   ]
  },
  {
   "cell_type": "code",
   "execution_count": 57,
   "metadata": {},
   "outputs": [
    {
     "data": {
      "text/plain": [
       "[20, 47, 19, 29, 45, 67, 78, 90]"
      ]
     },
     "execution_count": 57,
     "metadata": {},
     "output_type": "execute_result"
    }
   ],
   "source": [
    "melaquedo=[]\n",
    "for cosa in ejer_5:\n",
    "    if cosa != 3:\n",
    "        melaquedo.append(cosa)\n",
    "melaquedo"
   ]
  },
  {
   "attachments": {},
   "cell_type": "markdown",
   "metadata": {},
   "source": [
    "## Ejercicio 6\n",
    "1. Crea una tupla con 3 elementos\n",
    "2. Crea otra tupla con un elemento y comprueba su tipo\n",
    "3. Crea una tupla con elementos de diferentes tipos\n",
    "4. Imprime por pantalla el primer y último elemento de la tupla del apartado 3. Usa `len` para el último\n",
    "5. Añade un elemento a la tupla del apartado 3.\n",
    "6. Eliminar un elemento de la tupla del apartado 5, que se encuentre más o menos en la mitad.\n",
    "7. Convierte la tupla del apartado 5 en una lista"
   ]
  },
  {
   "cell_type": "code",
   "execution_count": 58,
   "metadata": {},
   "outputs": [
    {
     "data": {
      "text/plain": [
       "tuple"
      ]
     },
     "execution_count": 58,
     "metadata": {},
     "output_type": "execute_result"
    }
   ],
   "source": [
    "tupla=(1,2,3)\n",
    "tupla_2=(\"a\",) #tupla con un elemento\n",
    "type(tupla_2)\n"
   ]
  },
  {
   "cell_type": "code",
   "execution_count": 60,
   "metadata": {},
   "outputs": [
    {
     "data": {
      "text/plain": [
       "0"
      ]
     },
     "execution_count": 60,
     "metadata": {},
     "output_type": "execute_result"
    }
   ],
   "source": [
    "tupla_3=(\"a\",3,2.0,True)\n",
    "\n",
    "tuple_3[0] #9.34"
   ]
  },
  {
   "cell_type": "code",
   "execution_count": 63,
   "metadata": {},
   "outputs": [
    {
     "data": {
      "text/plain": [
       "2.0"
      ]
     },
     "execution_count": 63,
     "metadata": {},
     "output_type": "execute_result"
    }
   ],
   "source": [
    "te_temp = tupla_3\n",
    "list(tupla_3).pop(len(tupla_3)//2)"
   ]
  },
  {
   "attachments": {},
   "cell_type": "markdown",
   "metadata": {},
   "source": [
    "## Ejercicio 7\n",
    "Concatena todos los elementos de la tupla en un único string. Para ello utiliza el metodo `.join()` de los Strings\n",
    "> ```ejer_7 = (\"cien\", \"cañones\", \"por\", \"banda\")```\n",
    "\n",
    "Resultado: `cien cañones por banda`"
   ]
  },
  {
   "cell_type": "code",
   "execution_count": 33,
   "metadata": {},
   "outputs": [
    {
     "data": {
      "text/plain": [
       "['cien', 'cañones', 'por', 'banda']"
      ]
     },
     "execution_count": 33,
     "metadata": {},
     "output_type": "execute_result"
    }
   ],
   "source": [
    "ejer_7 = (\"cien\", \"cañones\", \"por\", \"banda\")\n",
    "nueva_lista=list(ejer_7)\n",
    "list(ejer_7)\n"
   ]
  },
  {
   "cell_type": "code",
   "execution_count": 64,
   "metadata": {},
   "outputs": [
    {
     "data": {
      "text/plain": [
       "'cien cañones por banda'"
      ]
     },
     "execution_count": 64,
     "metadata": {},
     "output_type": "execute_result"
    }
   ],
   "source": [
    "\" \".join(ejer_7)"
   ]
  },
  {
   "cell_type": "code",
   "execution_count": 68,
   "metadata": {},
   "outputs": [
    {
     "data": {
      "text/plain": [
       "['cien', 'cañones', 'por', 'banda']"
      ]
     },
     "execution_count": 68,
     "metadata": {},
     "output_type": "execute_result"
    }
   ],
   "source": [
    "\" \".join(ejer_7).split(\" \")"
   ]
  },
  {
   "cell_type": "markdown",
   "metadata": {},
   "source": [
    "## Ejercicio 8\n",
    "Obten el tercer elemento de la siguiente tupla, y el tercero empezando por la cola\n",
    "> ```ejer_8 = (3, 20, 3, 47, 19, 3, 29, 45, 67, 78, 90, 3, 3)```"
   ]
  },
  {
   "cell_type": "code",
   "execution_count": 71,
   "metadata": {},
   "outputs": [
    {
     "data": {
      "text/plain": [
       "90"
      ]
     },
     "execution_count": 71,
     "metadata": {},
     "output_type": "execute_result"
    }
   ],
   "source": [
    "ejer_8 = (3, 20, 3, 47, 19, 3, 29, 45, 67, 78, 90, 3, 3)\n",
    "ejer_8[2]\n",
    "ejer_8[-3]"
   ]
  },
  {
   "cell_type": "code",
   "execution_count": 72,
   "metadata": {},
   "outputs": [
    {
     "data": {
      "text/plain": [
       "3"
      ]
     },
     "execution_count": 72,
     "metadata": {},
     "output_type": "execute_result"
    }
   ],
   "source": [
    "ejer_8[2]"
   ]
  },
  {
   "attachments": {},
   "cell_type": "markdown",
   "metadata": {},
   "source": [
    "## Ejercicio 9\n",
    "1. ¿Cuántas veces se repite el 3 en la siguiente tupla?\n",
    "2. Crea una tupla nueva con los elementos desde la posición 5 a la 10.\n",
    "3. ¿Cuántos elementos tiene la tupla `ejer_9`?\n",
    "4. Comprueba si el numero 60 está en la tupla\n",
    "> ```ejer_9 = (3, 20, 3, 47, 19, 3, 29, 45, 67, 78, 90, 3, 3, 5, 2, 4, 7, 9, 4, 2, 4, 3, 3, 4, 6, 7)```"
   ]
  },
  {
   "cell_type": "code",
   "execution_count": 74,
   "metadata": {},
   "outputs": [
    {
     "data": {
      "text/plain": [
       "7"
      ]
     },
     "execution_count": 74,
     "metadata": {},
     "output_type": "execute_result"
    }
   ],
   "source": [
    "ejer_9 = (3, 20, 3, 47, 19, 3, 29, 45, 67, 78, 90, 3, 3, 5, 2, 4, 7, 9, 4, 2, 4, 3, 3, 4, 6, 7)\n",
    "ejer_9.count(3)\n"
   ]
  },
  {
   "cell_type": "code",
   "execution_count": 75,
   "metadata": {},
   "outputs": [
    {
     "data": {
      "text/plain": [
       "(3, 29, 45, 67, 78)"
      ]
     },
     "execution_count": 75,
     "metadata": {},
     "output_type": "execute_result"
    }
   ],
   "source": [
    "ejer_9[5:10]"
   ]
  },
  {
   "cell_type": "code",
   "execution_count": 76,
   "metadata": {},
   "outputs": [
    {
     "data": {
      "text/plain": [
       "26"
      ]
     },
     "execution_count": 76,
     "metadata": {},
     "output_type": "execute_result"
    }
   ],
   "source": [
    "len(ejer_9)"
   ]
  },
  {
   "cell_type": "code",
   "execution_count": 78,
   "metadata": {},
   "outputs": [
    {
     "name": "stdout",
     "output_type": "stream",
     "text": [
      "existe\n"
     ]
    }
   ],
   "source": [
    "if ejer_9.count(20):\n",
    "    print(\"existe\")\n",
    "else:\n",
    "    print(\"no\")"
   ]
  },
  {
   "cell_type": "code",
   "execution_count": 80,
   "metadata": {},
   "outputs": [
    {
     "data": {
      "text/plain": [
       "False"
      ]
     },
     "execution_count": 80,
     "metadata": {},
     "output_type": "execute_result"
    }
   ],
   "source": [
    "200 in ejer_9 # comprobar si hay un elemento en el ejercicio // con diccionario buscara la clave"
   ]
  },
  {
   "attachments": {},
   "cell_type": "markdown",
   "metadata": {},
   "source": [
    "## Ejercicio 10\n",
    "1. Convierte la tupla del ejercicio 9 en una lista\n",
    "2. Convierte la tupla del ejercicio 9 en un set\n",
    "3. Convierte la tupla del ejercicio 9 en un diccionario. Usa también los índices"
   ]
  },
  {
   "cell_type": "code",
   "execution_count": 81,
   "metadata": {},
   "outputs": [
    {
     "data": {
      "text/plain": [
       "[3,\n",
       " 20,\n",
       " 3,\n",
       " 47,\n",
       " 19,\n",
       " 3,\n",
       " 29,\n",
       " 45,\n",
       " 67,\n",
       " 78,\n",
       " 90,\n",
       " 3,\n",
       " 3,\n",
       " 5,\n",
       " 2,\n",
       " 4,\n",
       " 7,\n",
       " 9,\n",
       " 4,\n",
       " 2,\n",
       " 4,\n",
       " 3,\n",
       " 3,\n",
       " 4,\n",
       " 6,\n",
       " 7]"
      ]
     },
     "execution_count": 81,
     "metadata": {},
     "output_type": "execute_result"
    }
   ],
   "source": [
    "list(ejer_9)"
   ]
  },
  {
   "cell_type": "code",
   "execution_count": 83,
   "metadata": {},
   "outputs": [
    {
     "data": {
      "text/plain": [
       "{2, 3, 4, 5, 6, 7, 9, 19, 20, 29, 45, 47, 67, 78, 90}"
      ]
     },
     "execution_count": 83,
     "metadata": {},
     "output_type": "execute_result"
    }
   ],
   "source": [
    "set(ejer_9) #elimina los duplicados"
   ]
  },
  {
   "cell_type": "code",
   "execution_count": 86,
   "metadata": {},
   "outputs": [
    {
     "data": {
      "text/plain": [
       "{3: 22,\n",
       " 20: 1,\n",
       " 47: 3,\n",
       " 19: 4,\n",
       " 29: 6,\n",
       " 45: 7,\n",
       " 67: 8,\n",
       " 78: 9,\n",
       " 90: 10,\n",
       " 5: 13,\n",
       " 2: 19,\n",
       " 4: 23,\n",
       " 7: 25,\n",
       " 9: 17,\n",
       " 6: 24}"
      ]
     },
     "execution_count": 86,
     "metadata": {},
     "output_type": "execute_result"
    }
   ],
   "source": [
    "d = {} #dict() // el set tiene parentesis siempre\n",
    "for indice, elemento in enumerate(ejer_9):\n",
    "    d[elemento] = indice #si hay varias llaves solo toma el primero\n",
    "d\n"
   ]
  },
  {
   "cell_type": "markdown",
   "metadata": {},
   "source": [
    "## Ejercicio 11\n",
    "Convierte la siguiente lista en un diccionario\n",
    "> ```ejer_11 = [(\"x\", 1), (\"x\", 2), (\"x\", 3), (\"y\", 1), (\"y\", 2), (\"z\", 1)]```\n",
    "\n",
    "TIP: Puedes usar dos variables de control en un bucle `for`. Una por cada valor de las tuplas."
   ]
  },
  {
   "cell_type": "code",
   "execution_count": 87,
   "metadata": {},
   "outputs": [
    {
     "name": "stdout",
     "output_type": "stream",
     "text": [
      "('x', 1)\n",
      "('x', 2)\n",
      "('x', 3)\n",
      "('y', 1)\n",
      "('y', 2)\n",
      "('z', 1)\n"
     ]
    }
   ],
   "source": [
    "ejer_11 = [(\"x\", 1), (\"x\", 2), (\"x\", 3), (\"y\", 1), (\"y\", 2), (\"z\", 1)]\n",
    "for tupi in ejer_11:\n",
    "    print(tupi)"
   ]
  },
  {
   "cell_type": "code",
   "execution_count": 88,
   "metadata": {},
   "outputs": [],
   "source": [
    "ejer_11 = [(\"x\", 1), (\"x\", 2), (\"x\", 3), (\"y\", 1), (\"y\", 2), (\"z\", 1)]\n",
    "for tupi in ejer_11:\n",
    "    letra = tupi[0]\n",
    "    numerin = tupi[1]\n",
    "    \n",
    "    "
   ]
  },
  {
   "cell_type": "code",
   "execution_count": 90,
   "metadata": {},
   "outputs": [
    {
     "data": {
      "text/plain": [
       "{'x': 3, 'y': 2, 'z': 1}"
      ]
     },
     "execution_count": 90,
     "metadata": {},
     "output_type": "execute_result"
    }
   ],
   "source": [
    "ejer_11 = [(\"x\", 1), (\"x\", 2), (\"x\", 3), (\"y\", 1), (\"y\", 2), (\"z\", 1)]\n",
    "d=dict()\n",
    "for letra, numerin in ejer_11:\n",
    "    d[letra] = numerin\n",
    "d\n",
    "  "
   ]
  },
  {
   "cell_type": "code",
   "execution_count": 91,
   "metadata": {},
   "outputs": [
    {
     "data": {
      "text/plain": [
       "{'x': 1, 'x1': 2, 'x2': 3, 'y': 1, 'y4': 2, 'z': 1}"
      ]
     },
     "execution_count": 91,
     "metadata": {},
     "output_type": "execute_result"
    }
   ],
   "source": [
    "ejer_11 = [(\"x\", 1), (\"x\", 2), (\"x\", 3), (\"y\", 1), (\"y\", 2), (\"z\", 1)]\n",
    "d=dict()\n",
    "for letra, numerin in ejer_11:\n",
    "    if letra in d: #esto verifica que la letra existe // d.keys()\n",
    "        letra = letra + str(len(d))\n",
    "    d[letra] = numerin\n",
    "d"
   ]
  },
  {
   "cell_type": "code",
   "execution_count": 94,
   "metadata": {},
   "outputs": [
    {
     "data": {
      "text/plain": [
       "{'x': [1, 2, 3], 'y': [1, 2], 'z': [1]}"
      ]
     },
     "execution_count": 94,
     "metadata": {},
     "output_type": "execute_result"
    }
   ],
   "source": [
    "ejer_11 = [(\"x\", 1), (\"x\", 2), (\"x\", 3), (\"y\", 1), (\"y\", 2), (\"z\", 1)]\n",
    "\n",
    "d=dict()\n",
    "\n",
    "for letra, numerin in ejer_11:\n",
    "    if letra not in d.keys():  #!= no se puede usar porque no son numeros\n",
    "        d[letra] = [numerin]\n",
    "    else:\n",
    "        d[letra].append(numerin)\n",
    "d\n",
    "\n",
    "#10:18  estructura examen"
   ]
  },
  {
   "attachments": {},
   "cell_type": "markdown",
   "metadata": {},
   "source": [
    "## Ejercicio 12\n",
    "1. Crea una lista ordenada ascendente con las claves del diccionario\n",
    "2. Crea otra lista ordenada descendente con los valores\n",
    "3. Añade una nueva clave/valor\n",
    "4. Busca la clave igual 2 dentro del diccionario\n",
    "5. Itera la clave y el valor del diccionario con un único for\n",
    "> ```ejer_12 = {4:78, 2:98, 8:234, 5:29}```"
   ]
  },
  {
   "cell_type": "code",
   "execution_count": 97,
   "metadata": {},
   "outputs": [
    {
     "data": {
      "text/plain": [
       "[2, 4, 5, 8]"
      ]
     },
     "execution_count": 97,
     "metadata": {},
     "output_type": "execute_result"
    }
   ],
   "source": [
    "ejer_12 = {4:78, 2:98, 8:234, 5:29}\n",
    "\n",
    "sorted(ejer_12.keys())"
   ]
  },
  {
   "cell_type": "code",
   "execution_count": 98,
   "metadata": {},
   "outputs": [
    {
     "data": {
      "text/plain": [
       "[8, 5, 4, 2]"
      ]
     },
     "execution_count": 98,
     "metadata": {},
     "output_type": "execute_result"
    }
   ],
   "source": [
    "sorted(ejer_12.keys(), reverse=True)"
   ]
  },
  {
   "cell_type": "code",
   "execution_count": 99,
   "metadata": {},
   "outputs": [],
   "source": [
    "ejer_12[\"holi\"] = \"guapo\""
   ]
  },
  {
   "cell_type": "markdown",
   "metadata": {},
   "source": [
    "## Ejercicio 13\n",
    "Junta ambos diccionarios. Para ello, utiliza `update`\n",
    "> ```ejer_13_1 = {1: 11, 2: 22}```\n",
    ">\n",
    "> ```ejer_13_2 = {3: 33, 4: 44}```"
   ]
  },
  {
   "cell_type": "code",
   "execution_count": 101,
   "metadata": {},
   "outputs": [
    {
     "data": {
      "text/plain": [
       "{1: 11, 2: 22, 3: 33, 4: 44}"
      ]
     },
     "execution_count": 101,
     "metadata": {},
     "output_type": "execute_result"
    }
   ],
   "source": [
    "ejer_13_1 = {1: 11, 2: 22}\n",
    "ejer_13_2 = {3: 33, 4: 44}\n",
    "\n",
    "ejer_13_1.update(ejer_13_2)\n",
    "ejer_13_1"
   ]
  },
  {
   "cell_type": "markdown",
   "metadata": {},
   "source": [
    "## Ejercicio 14\n",
    "Suma todos los valores del dicionario\n",
    "> ```ejer_14 = {1: 11, 2: 22, 3: 33, 4: 44, 5: 55}```"
   ]
  },
  {
   "cell_type": "code",
   "execution_count": 103,
   "metadata": {},
   "outputs": [
    {
     "data": {
      "text/plain": [
       "19326120"
      ]
     },
     "execution_count": 103,
     "metadata": {},
     "output_type": "execute_result"
    }
   ],
   "source": [
    "ejer_14 = {1: 11, 2: 22, 3: 33, 4: 44, 5: 55}\n",
    "import math\n",
    "math.prod(ejer_14.values())\n"
   ]
  },
  {
   "cell_type": "markdown",
   "metadata": {},
   "source": [
    "## Ejercicio 15\n",
    "Multiplica todos los valores del diccionario\n",
    "> ```ejer_15 = {1: 11, 2: 22, 3: 33, 4: 44, 5: 55}```"
   ]
  },
  {
   "cell_type": "code",
   "execution_count": null,
   "metadata": {},
   "outputs": [],
   "source": [
    "ejer_15 = {1: 11, 2: 22, 3: 33, 4: 44, 5: 55}\n",
    "# 10:25 am"
   ]
  },
  {
   "cell_type": "markdown",
   "metadata": {},
   "source": [
    "## Ejercicio 16\n",
    "1. Crea un set de tres elementos\n",
    "2. Añade un cuarto\n",
    "3. Elimina el último elemento añadido\n",
    "4. Elimina el elemento 10, si está presente. Usa `discard()`"
   ]
  },
  {
   "cell_type": "code",
   "execution_count": 104,
   "metadata": {},
   "outputs": [
    {
     "data": {
      "text/plain": [
       "{1, 2, 3, 4, 5}"
      ]
     },
     "execution_count": 104,
     "metadata": {},
     "output_type": "execute_result"
    }
   ],
   "source": [
    "s = {1,2,3,4}\n",
    "s.add(5)\n",
    "s"
   ]
  },
  {
   "cell_type": "code",
   "execution_count": 105,
   "metadata": {},
   "outputs": [
    {
     "data": {
      "text/plain": [
       "{1, 2, 3, 4, 5}"
      ]
     },
     "execution_count": 105,
     "metadata": {},
     "output_type": "execute_result"
    }
   ],
   "source": [
    "s1={1,2,3}\n",
    "s2={3,4,5}\n",
    "s | s #union"
   ]
  },
  {
   "cell_type": "code",
   "execution_count": 106,
   "metadata": {},
   "outputs": [
    {
     "data": {
      "text/plain": [
       "{1, 2, 3, 4, 5}"
      ]
     },
     "execution_count": 106,
     "metadata": {},
     "output_type": "execute_result"
    }
   ],
   "source": [
    "s & s #interseccion\n",
    "s"
   ]
  },
  {
   "cell_type": "code",
   "execution_count": 108,
   "metadata": {},
   "outputs": [
    {
     "name": "stdout",
     "output_type": "stream",
     "text": [
      "1 True\n",
      "5 False\n",
      "4 False\n",
      "1 True\n",
      "6 True\n",
      "5 False\n",
      "7 False\n",
      "5 False\n"
     ]
    }
   ],
   "source": [
    "l1=[1,5,4,1,6,5,7,5]\n",
    "l2=[3,8,0,1,6]\n",
    "\n",
    "for cosa in l1:\n",
    "    print(cosa, cosa in l2)"
   ]
  },
  {
   "cell_type": "code",
   "execution_count": 109,
   "metadata": {},
   "outputs": [
    {
     "data": {
      "text/plain": [
       "{1, 6}"
      ]
     },
     "execution_count": 109,
     "metadata": {},
     "output_type": "execute_result"
    }
   ],
   "source": [
    "set(l1) & set(l2) #usar set en una lista restringida a valores unicos"
   ]
  }
 ],
 "metadata": {
  "kernelspec": {
   "display_name": "Python 3.7.4 64-bit",
   "language": "python",
   "name": "python3"
  },
  "language_info": {
   "codemirror_mode": {
    "name": "ipython",
    "version": 3
   },
   "file_extension": ".py",
   "mimetype": "text/x-python",
   "name": "python",
   "nbconvert_exporter": "python",
   "pygments_lexer": "ipython3",
   "version": "3.12.2"
  },
  "vscode": {
   "interpreter": {
    "hash": "90139cb9a825bf3d63f6f6704e828dbd1ff7edbd4d0c6e906a71235d6efc74af"
   }
  }
 },
 "nbformat": 4,
 "nbformat_minor": 4
}
