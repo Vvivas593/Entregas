{
 "cells": [
  {
   "cell_type": "markdown",
   "metadata": {},
   "source": [
    "# Ataca la API de Marvel"
   ]
  },
  {
   "cell_type": "markdown",
   "metadata": {},
   "source": [
    "Te tendrás que [registrar](https://developer.marvel.com/) y consultar la [documentación](https://developer.marvel.com/docs)"
   ]
  },
  {
   "cell_type": "markdown",
   "metadata": {},
   "source": [
    "Queremos que consultes a la api para que te devuelva la info de los personajes de marvel que empiecen por la inicial de tu nombre. Tendríamos que generar un main.py (más los scripts que se te ocurran) que guarde un csv la información con la siguiente estructura\n",
    "\n",
    "![imagen](./img/Captura_marvel.PNG)"
   ]
  },
  {
   "cell_type": "markdown",
   "metadata": {},
   "source": [
    "Aquí te dejamos el código en python para poder empezar a hacer las llamadas, rellenando algunas variables como tus keys, parámetros de la llamada y la url (endpoint) a la que quieres acceder"
   ]
  },
  {
   "cell_type": "code",
   "execution_count": 7,
   "metadata": {},
   "outputs": [],
   "source": [
    "import hashlib\n",
    "import requests\n",
    "import datetime\n",
    "import pandas as pd\n",
    "\n"
   ]
  },
  {
   "cell_type": "code",
   "execution_count": 10,
   "metadata": {},
   "outputs": [
    {
     "name": "stdout",
     "output_type": "stream",
     "text": [
      "SSL Error: HTTPSConnectionPool(host='gateway.marvel.com', port=443): Max retries exceeded with url: /v1/public/characters?apikey=1822a39570522b76bc5999d7c21cc895 (Caused by SSLError(SSLError(1, '[SSL: WRONG_SIGNATURE_TYPE] wrong signature type (_ssl.c:1007)')))\n"
     ]
    }
   ],
   "source": [
    "import requests\n",
    "\n",
    "url = 'https://gateway.marvel.com/v1/public/characters'\n",
    "params = {'apikey': '1822a39570522b76bc5999d7c21cc895'}\n",
    "\n",
    "try:\n",
    "    response = requests.get(url, params=params)\n",
    "    response.raise_for_status()\n",
    " \n",
    "except requests.exceptions.SSLError as e:\n",
    "    print(\"SSL Error:\", e)\n",
    "except requests.exceptions.RequestException as e:\n",
    "    print(\"Request Error:\", e)\n"
   ]
  },
  {
   "cell_type": "code",
   "execution_count": 11,
   "metadata": {},
   "outputs": [],
   "source": [
    "def hash_params():\n",
    "    \"\"\" Marvel API requires server side API calls to include\n",
    "    md5 hash of timestamp + public key + private key \"\"\"\n",
    "\n",
    "    hash_md5 = hashlib.md5()\n",
    "    hash_md5.update(f'{timestamp}{priv_key}{pub_key}'.encode('utf-8'))\n",
    "    hashed_params = hash_md5.hexdigest()\n",
    "\n",
    "    return hashed_params"
   ]
  },
  {
   "cell_type": "code",
   "execution_count": 12,
   "metadata": {},
   "outputs": [],
   "source": [
    "timestamp = datetime.datetime.now().strftime('%Y-%m-%d%H:%M:%S')\n",
    "\n",
    "pub_key = 'dcfa67744d198a80776e92810ccdc2e0'\n",
    "priv_key = '911ff403f58e6f8258d31e19892ce8d7b18c5578'\n",
    "\n",
    "params = {'limit' : 100,\n",
    "        'nameStartsWith': 'M',\n",
    "        'ts': timestamp, \n",
    "        'apikey': pub_key, \n",
    "        'hash': hash_params()};\n",
    "\n",
    "url = 'http://gateway.marvel.com/v1/public/characters'\n",
    "\n",
    "res = requests.get(url,params=params)"
   ]
  },
  {
   "cell_type": "code",
   "execution_count": 84,
   "metadata": {},
   "outputs": [],
   "source": []
  },
  {
   "cell_type": "code",
   "execution_count": 81,
   "metadata": {},
   "outputs": [],
   "source": []
  }
 ],
 "metadata": {
  "interpreter": {
   "hash": "7c77fdb427e7cbc9bc1367dd530fc2b36aacdbbde1ac83c85833b10dfa8b831c"
  },
  "kernelspec": {
   "display_name": "Python 3.7.4 64-bit",
   "language": "python",
   "name": "python3"
  },
  "language_info": {
   "codemirror_mode": {
    "name": "ipython",
    "version": 3
   },
   "file_extension": ".py",
   "mimetype": "text/x-python",
   "name": "python",
   "nbconvert_exporter": "python",
   "pygments_lexer": "ipython3",
   "version": "3.10.14"
  },
  "orig_nbformat": 4
 },
 "nbformat": 4,
 "nbformat_minor": 2
}
