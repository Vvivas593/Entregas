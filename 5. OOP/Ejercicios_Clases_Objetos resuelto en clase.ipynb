{
 "cells": [
  {
   "cell_type": "markdown",
   "metadata": {},
   "source": [
    "![imagen](./img/ejercicios.png)\n",
    "\n",
    "# Ejercicios Clases y Objetos"
   ]
  },
  {
   "attachments": {},
   "cell_type": "markdown",
   "metadata": {},
   "source": [
    "## Ejercicio 1\n",
    "Somos una empresa que tiene varias tiendas de electrodomésticos. Necesitamos un programa para manejar las tiendas, ver las ventas que han tenido, cuántos empleados hay, etc... Para ello vamos a modelizar la tienda en una clase, que tendrá las siguientes características:\n",
    "* Nombre clase: \"Tienda\"\n",
    "* Atributos comunes:\n",
    "    * Tipo: \"Electrodomésticos\"\n",
    "    * Abierta: True\n",
    "* Atributos propios de cada tienda:\n",
    "    * Nombre - String\n",
    "    * Dirección - String\n",
    "    * Número de empleados - int\n",
    "    * Ventas últimos 3 meses - Lista de 3 numeros\n",
    "* Método para calcular las ventas de todos los meses, que devuelva un número con todas las ventas.\n",
    "* Método que calcula la media de ventas de los últimos meses, por empleado\n",
    "* Método que devuelve en un string el nombre de la tienda, junto con su dirección.\n",
    "* Método que obtiene las ventas del último mes.\n",
    "* Método para dar una proyección de las ventas en caso de haber invertido X dinero en marketing en esa tienda. Siendo X el parámetro de entrada. Si X es menor de 1000, las ventas de los ultimos 3 meses hubiesen sido de (1.2 x ventas), si es mayor o igual de 1000, las ventas hubiesen sido de (1.5 x venta). El método reescribe el atributo de ventas en los últimos 3 meses, y además devuelve las ventas con el aumento.\n",
    "\n",
    "Se pide:\n",
    "1. Implementar la clase \"Tienda\"\n",
    "2. Crear tres tiendas con datos inventados\n",
    "3. Comprueba en al menos una de ellas, todo lo implementado en la clase tienda (sus atributos, media de ventas, ventas/empleado...)\n",
    "3. Calcular las ventas del último mes de todas las tiendas. Para ello usa el bucle `for`\n",
    "4. Imprime por pantalla los nombres de las tiendas cuya dirección lleve el string \"Avenida\"\n",
    "5. Seguro que ya has hecho este apartado... Documenta la clase :)"
   ]
  },
  {
   "cell_type": "code",
   "execution_count": 21,
   "metadata": {},
   "outputs": [],
   "source": [
    "class Tienda:\n",
    "#\"\"\"\"\"\"\n",
    "    #Abierta: True\n",
    "    #tipo: \"Electrodomesticos\"\n",
    "#Atributos\n",
    "    #nombre = \"El Arbolito\"\n",
    "    #direccion = \"Eloy Alfaro 111\"\n",
    "    #numero_empleados =100\n",
    "    #ventas_ultimos_3meses= (200,400,350)\n",
    "    #cantidad = 10\n",
    "    #precio = 20\n",
    "    #ventas= cantidad * precio\n",
    "#\"\"\"\"\"\"\n",
    "\n",
    "    def __init__(self, nombre, empleados, ventas, tipo=\"Electrodomesticos\", abierta=True):\n",
    "        self.nombre = nombre\n",
    "        self.empleados = empleados\n",
    "        self.ventas = ventas\n",
    "        self.tipo = tipo\n",
    "        self.abierta = True\n",
    "    def calculo_ventas(self):\n",
    "        return sum(self.ventas)\n",
    "    def promedio_ventas(self):\n",
    "        return sum(self.ventas)/len(self.ventas) #tambien puede ser self.calculo_ventas()/len(self.ventas())\n",
    "    def media_empleado(self):\n",
    "        return self.calculo_ventas()/self.empledos() #equivale PIB per capita*\n",
    "    def nombre_tienda_direccion(self):\n",
    "        return self.nombre  + \"/n\" + self.direccion\n",
    "    def venta_ultimo_mes(self):\n",
    "        return self.ventas[-1]\n",
    "\n",
    "#Método para calcular las ventas de todos los meses, que devuelva un número con todas las ventas.\n",
    "#Método que calcula la media de ventas de los últimos meses, por empleado\n",
    "#Método que devuelve en un string el nombre de la tienda, junto con su dirección.\n",
    "#Método que obtiene las ventas del último mes.\n",
    "    \n",
    "    def proyeccion(self, x):\n",
    "        if x<1000:\n",
    "            incremento = 1.2\n",
    "        else:\n",
    "            incremento =1.5\n",
    "\n",
    "        nuevas_ventas = []\n",
    "        for venta in self.ventas:\n",
    "            nuevas_ventas.append(venta*incremento)\n",
    "        self.ventas = nuevas_ventas\n",
    "        return self.ventas\n",
    "\n"
   ]
  },
  {
   "cell_type": "code",
   "execution_count": 30,
   "metadata": {},
   "outputs": [
    {
     "name": "stdout",
     "output_type": "stream",
     "text": [
      "{'nombre': 'a', 'empleados': 'tucasa', 'ventas': 4, 'tipo': [1, 2, 3], 'abierta': True}\n",
      "{'nombre': 'b', 'empleados': 'micasa', 'ventas': 4, 'tipo': [4, 5, 6], 'abierta': True}\n",
      "{'nombre': 'c', 'empleados': 'vuestraecasa', 'ventas': 4, 'tipo': [1, 2, 3], 'abierta': True}\n"
     ]
    }
   ],
   "source": [
    "#Implementar la clase \"Tienda\"\n",
    "#Crear tres tiendas con datos inventados\n",
    "#Comprueba en al menos una de ellas, todo lo implementado en la clase tienda (sus atributos, media de ventas, ventas/empleado...)\n",
    "#Calcular las ventas del último mes de todas las tiendas. Para ello usa el bucle `for`\n",
    "#Imprime por pantalla los nombres de las tiendas cuya dirección lleve el string \"Avenida\"\n",
    "#Seguro que ya has hecho este apartado... Documenta la clase :)\n",
    "\n",
    "tienda1 = Tienda(\"a\", \"tucasa\", 4, [1,2,3])\n",
    "tienda2 = Tienda(\"b\", \"micasa\", 4, [4,5,6])\n",
    "tienda3 = Tienda(\"c\", \"vuestraecasa\", 4, [1,2,3])\n",
    "\n",
    "print(tienda1.__dict__)\n",
    "print(tienda2.__dict__)\n",
    "print(tienda3.__dict__)\n"
   ]
  },
  {
   "cell_type": "code",
   "execution_count": 52,
   "metadata": {},
   "outputs": [
    {
     "data": {
      "text/plain": [
       "9"
      ]
     },
     "execution_count": 52,
     "metadata": {},
     "output_type": "execute_result"
    }
   ],
   "source": [
    "class Tienda:  \n",
    "    def __init__(self, nombre, direccion, empleados, ventas, tipo =\"Electrodomésticos\", abierta=True):\n",
    "        self.nombre = nombre\n",
    "        self.direccion = direccion\n",
    "        self.empleados = empleados\n",
    "        self.ventas = ventas\n",
    "        self.tipo = tipo\n",
    "        self.abierta = abierta\n",
    "        \n",
    "    def calculo_ventas(self):\n",
    "        \"\"\"Método para calcular las ventas de todos los meses, que devuelva un número con todas las ventas.\"\"\"\n",
    "        return sum(self.ventas)\n",
    "    \n",
    "    def media_ventas(self):\n",
    "        return self.calculo_ventas()/len(self.ventas)\n",
    "    \n",
    "    def media_por_empleados(self):\n",
    "        \"\"\"* Método que calcula la media de ventas de los últimos meses, por empleado\"\"\"\n",
    "\n",
    "        return self.calculo_ventas()/self.empleados\n",
    "    \n",
    "    def nombre_addr(self):\n",
    "        \"\"\"* Método que devuelve en un string el nombre de la tienda, junto con su dirección.\"\"\"\n",
    "        return self.nombre + \"\\n\" + self.direccion\n",
    "    \n",
    "    def ventas_last(self):\n",
    "        \"\"\"Método que obtiene las ventas del último mes.\"\"\"\n",
    "        return self.ventas[-1]\n",
    "    \n",
    "    \n",
    "    def proyeccion(self, X):\n",
    "        \"\"\"Método para dar una proyección de las ventas en caso de haber invertido X dinero en marketing en esa tienda. \n",
    "        Siendo X el parámetro de entrada. \n",
    "        Si X es menor de 1000, las ventas de los ultimos 3 meses hubiesen sido de (1.2 x ventas), si es mayor o igual de 1000, \n",
    "        las ventas hubiesen sido de (1.5 x venta). \n",
    "        El método reescribe el atributo de ventas en los últimos 3 meses, y además devuelve las ventas con el aumento.\"\"\"\n",
    "\n",
    "        if X<1000:\n",
    "            incremento = 1.2\n",
    "        else:\n",
    "            incremento = 1.5\n",
    "    \n",
    "        nuevas_ventas = []\n",
    "        for venta in self.ventas:\n",
    "            nuevas_ventas.append(venta*incremento)\n",
    "        self.ventas = nuevas_ventas\n",
    "        return self.ventas\n",
    "tienda1 = Tienda(\"a\", \"tucasa\", 4, [1,2,3])\n",
    "tienda2 = Tienda(\"b\", \"micasa\", 4, [4,5,6])\n",
    "tienda3 = Tienda(\"c\", \"nuestracasa\", 4, [7,8,9])\n",
    "\n",
    "venta_total = 0\n",
    "for tienda in [tienda1, tienda2, tienda3]:\n",
    "    venta_total = tienda.ventas[-1]\n",
    "venta_total"
   ]
  },
  {
   "cell_type": "code",
   "execution_count": 49,
   "metadata": {},
   "outputs": [
    {
     "ename": "TypeError",
     "evalue": "'int' object is not subscriptable",
     "output_type": "error",
     "traceback": [
      "\u001b[1;31m---------------------------------------------------------------------------\u001b[0m",
      "\u001b[1;31mTypeError\u001b[0m                                 Traceback (most recent call last)",
      "Cell \u001b[1;32mIn[49], line 7\u001b[0m\n\u001b[0;32m      5\u001b[0m venta_total \u001b[38;5;241m=\u001b[39m \u001b[38;5;241m0\u001b[39m\n\u001b[0;32m      6\u001b[0m \u001b[38;5;28;01mfor\u001b[39;00m tienda \u001b[38;5;129;01min\u001b[39;00m [tienda1, tienda2, tienda3]:\n\u001b[1;32m----> 7\u001b[0m     venta_total \u001b[38;5;241m+\u001b[39m\u001b[38;5;241m=\u001b[39m \u001b[43mtienda\u001b[49m\u001b[38;5;241;43m.\u001b[39;49m\u001b[43mventas\u001b[49m\u001b[43m[\u001b[49m\u001b[38;5;241;43m-\u001b[39;49m\u001b[38;5;241;43m1\u001b[39;49m\u001b[43m]\u001b[49m\n\u001b[0;32m      8\u001b[0m venta_total\n\u001b[0;32m     10\u001b[0m \u001b[38;5;28;01mfor\u001b[39;00m tienda \u001b[38;5;129;01min\u001b[39;00m [tienda1, tienda2, tienda3]:\n",
      "\u001b[1;31mTypeError\u001b[0m: 'int' object is not subscriptable"
     ]
    }
   ],
   "source": [
    "tienda1 = Tienda(\"a\", \"tucasa\", 4, [1,2,3])\n",
    "tienda2 = Tienda(\"b\", \"micasa\", 4, [4,5,6])\n",
    "tienda3 = Tienda(\"c\", \"nuestracasa\", 4, [7,8,9])\n",
    "\n",
    "venta_total = 0\n",
    "for tienda in [tienda1, tienda2, tienda3]:\n",
    "    venta_total += tienda.ventas[-1]\n",
    "venta_total\n",
    "\n",
    "for tienda in [tienda1, tienda2, tienda3]:\n",
    "    if \"tu\" in tienda.direccion:\n",
    "        print(tienda.nombre)"
   ]
  },
  {
   "cell_type": "code",
   "execution_count": 47,
   "metadata": {},
   "outputs": [
    {
     "ename": "AttributeError",
     "evalue": "'Tienda' object has no attribute 'direccion'",
     "output_type": "error",
     "traceback": [
      "\u001b[1;31m---------------------------------------------------------------------------\u001b[0m",
      "\u001b[1;31mAttributeError\u001b[0m                            Traceback (most recent call last)",
      "Cell \u001b[1;32mIn[47], line 2\u001b[0m\n\u001b[0;32m      1\u001b[0m \u001b[38;5;28;01mfor\u001b[39;00m tienda \u001b[38;5;129;01min\u001b[39;00m [tienda1, tienda2, tienda3]:\n\u001b[1;32m----> 2\u001b[0m     \u001b[38;5;28;01mif\u001b[39;00m \u001b[38;5;124m\"\u001b[39m\u001b[38;5;124mtu\u001b[39m\u001b[38;5;124m\"\u001b[39m \u001b[38;5;129;01min\u001b[39;00m \u001b[43mtienda\u001b[49m\u001b[38;5;241;43m.\u001b[39;49m\u001b[43mdireccion\u001b[49m:\n\u001b[0;32m      3\u001b[0m         \u001b[38;5;28mprint\u001b[39m(tienda\u001b[38;5;241m.\u001b[39mnombre)\n",
      "\u001b[1;31mAttributeError\u001b[0m: 'Tienda' object has no attribute 'direccion'"
     ]
    }
   ],
   "source": [
    "for tienda in [tienda1, tienda2, tienda3]:\n",
    "    if \"tu\" in tienda.direccion:\n",
    "        print(tienda.nombre)"
   ]
  },
  {
   "cell_type": "markdown",
   "metadata": {},
   "source": [
    "## Ejercicio 2\n",
    "En este ejercicio vamos a implementar una clase *Perro* en Python. La clase tiene las siguientes características:\n",
    "* Cosas que sabemos seguro que tiene un perro\n",
    "    * Tiene 4 patas\n",
    "    * 2 orejas\n",
    "    * 2 ojos\n",
    "    * Una velocidad de 0. Por defecto, el perro está parado\n",
    "* Cuando se inicialice:\n",
    "    * El perro será de una determinada raza\n",
    "    * Por defecto tendrá pelo \"Marrón\", a no ser que se diga lo contrario.\n",
    "    * Por defecto no tendrá dueño, a no ser que se diga lo contrario.\n",
    "    \n",
    "* Dispondrá también de un método llamado andar, que tiene un argumento de entrada (aumento_velocidad). Este valor se le sumará a la velocidad que ya llevaba el perro.\n",
    "* Necesita otro método (parar), donde pondremos la velocidad a 0.\n",
    "* Otro método llamado \"ladrar\", que tendrá un argumento de entrada, y la salida será el siguiente string: \"GUAU!\" + el argumento de entrada.\n",
    "\n",
    "\n",
    "Se pide:\n",
    "* Implementa la clase *Perro*\n",
    "* Crea un objeto de tipo *Perro*, sin dueño\n",
    "* Comprueba que están bien todos sus atributos\n",
    "* Prueba que ande, y comprueba su velocidad\n",
    "* Páralo\n",
    "* Documenta la clase *Perro*"
   ]
  },
  {
   "cell_type": "code",
   "execution_count": 42,
   "metadata": {},
   "outputs": [],
   "source": [
    "class Perro:\n",
    "\n",
    "    def __init__(self, raza, owner=False, color=\"marron\", patas=4, orejas=2, ojos=2, velocidad=0):\n",
    "        self.raza = raza\n",
    "        self.owner = owner\n",
    "        self.color = color\n",
    "        self.patas = patas\n",
    "        self.orejas = orejas\n",
    "        self.ojos = ojos\n",
    "        self.velocidad = velocidad\n",
    "    \n",
    "    def andar(self, aumento_velocidad):\n",
    "        self.velocidad += aumento_velocidad # self.velocidad = self.velocidad + aumento_velocidad\n",
    "        print(f\"La velocidad actual es {self.velocidad}\")\n",
    "        \n",
    "    def parar(self):\n",
    "        self.velocidad =0\n",
    "        print(f\"La velocidad actual es {self.velocidad}\")\n",
    "\n",
    "    def ladrar(self, entrada):\n",
    "        return \"GUAU!\" + entrada"
   ]
  },
  {
   "cell_type": "code",
   "execution_count": 43,
   "metadata": {},
   "outputs": [
    {
     "name": "stdout",
     "output_type": "stream",
     "text": [
      "{'raza': 'rw', 'owner': False, 'color': 'marron', 'patas': 4, 'orejas': 2, 'ojos': 2, 'velocidad': 0}\n"
     ]
    }
   ],
   "source": [
    "juan = Perro(owner=False, raza=\"rw\")\n",
    "print(juan.__dict__)"
   ]
  },
  {
   "cell_type": "code",
   "execution_count": 44,
   "metadata": {},
   "outputs": [
    {
     "name": "stdout",
     "output_type": "stream",
     "text": [
      "La velocidad actual es 200\n"
     ]
    }
   ],
   "source": [
    "juan.andar(200)"
   ]
  },
  {
   "cell_type": "code",
   "execution_count": 46,
   "metadata": {},
   "outputs": [
    {
     "name": "stdout",
     "output_type": "stream",
     "text": [
      "La velocidad actual es 0\n"
     ]
    }
   ],
   "source": [
    "juan.parar()"
   ]
  },
  {
   "cell_type": "code",
   "execution_count": 78,
   "metadata": {},
   "outputs": [],
   "source": [
    "# EJERCICIO 3\n",
    "\n",
    "class Mascota:\n",
    "\n",
    "    def __init__(self, especie, edad, nombre, hambre=100, energia=100, animo=0):\n",
    "        self.especie = especie\n",
    "        self.edad = edad\n",
    "        self.nombre = nombre\n",
    "        self.hambre = hambre\n",
    "        self.energia = energia\n",
    "        self.animo = animo\n",
    "\n",
    "\n",
    "    def alimentar(self, cantidad):\n",
    "        self.hambre -= cantidad\n",
    "\n",
    "        if self.hambre < 0:\n",
    "            self.hambre = 0\n",
    "        print(f\"El hambre es {self.hambre}\")\n",
    "\n",
    "    def jugar(self, duracion):\n",
    "        self.energia -= duracion\n",
    "        self.animo += duracion\n",
    "        print(f\"El animo es {self.animo} y la energia es {self.energia}\")\n",
    "\n",
    "        if self.energia <= 0:\n",
    "            self.dormir(duracion)\n",
    "         \n",
    "    def dormir(self, duracion):\n",
    "        self.energia += duracion\n",
    "        print(f\"Has dormido y ahora tu energia es de {self.energia}\")\n",
    "\n",
    "    def estado(self):\n",
    "        return self.__dict__\n",
    "        #return f\"La energia es {self.energia}\"\n",
    "    \n",
    "    \n",
    "       \n",
    "\n",
    "#alimentar(cantidad): Reduce el hambre de la mascota en función \n",
    "#de la cantidad de comida (hambre -= cantidad)\n",
    "\n",
    "\n"
   ]
  },
  {
   "cell_type": "code",
   "execution_count": 79,
   "metadata": {},
   "outputs": [
    {
     "name": "stdout",
     "output_type": "stream",
     "text": [
      "{'especie': 'perro', 'edad': '2', 'nombre': 'Luna', 'hambre': 100, 'energia': 100, 'animo': 0}\n"
     ]
    }
   ],
   "source": [
    "mascota1 = Mascota(especie=\"perro\", edad=\"2\", nombre=\"Luna\")\n",
    "print(mascota1.__dict__)"
   ]
  },
  {
   "cell_type": "code",
   "execution_count": 80,
   "metadata": {},
   "outputs": [
    {
     "data": {
      "text/plain": [
       "{'especie': 'perro',\n",
       " 'edad': '2',\n",
       " 'nombre': 'Luna',\n",
       " 'hambre': 100,\n",
       " 'energia': 100,\n",
       " 'animo': 0}"
      ]
     },
     "execution_count": 80,
     "metadata": {},
     "output_type": "execute_result"
    }
   ],
   "source": [
    "mascota1.estado()"
   ]
  },
  {
   "cell_type": "code",
   "execution_count": 81,
   "metadata": {},
   "outputs": [
    {
     "name": "stdout",
     "output_type": "stream",
     "text": [
      "El animo es 150 y la energia es -50\n",
      "Has dormido y ahora tu energia es de 100\n"
     ]
    }
   ],
   "source": [
    "mascota1.jugar(150)"
   ]
  },
  {
   "cell_type": "code",
   "execution_count": 82,
   "metadata": {},
   "outputs": [
    {
     "data": {
      "text/plain": [
       "{'especie': 'perro',\n",
       " 'edad': '2',\n",
       " 'nombre': 'Luna',\n",
       " 'hambre': 100,\n",
       " 'energia': 100,\n",
       " 'animo': 150}"
      ]
     },
     "execution_count": 82,
     "metadata": {},
     "output_type": "execute_result"
    }
   ],
   "source": [
    "mascota1.estado()"
   ]
  },
  {
   "cell_type": "code",
   "execution_count": 83,
   "metadata": {},
   "outputs": [
    {
     "name": "stdout",
     "output_type": "stream",
     "text": [
      "Has dormido y ahora tu energia es de 110\n"
     ]
    }
   ],
   "source": [
    "mascota1.dormir(10)"
   ]
  },
  {
   "cell_type": "code",
   "execution_count": 84,
   "metadata": {},
   "outputs": [
    {
     "data": {
      "text/plain": [
       "{'especie': 'perro',\n",
       " 'edad': '2',\n",
       " 'nombre': 'Luna',\n",
       " 'hambre': 100,\n",
       " 'energia': 110,\n",
       " 'animo': 150}"
      ]
     },
     "execution_count": 84,
     "metadata": {},
     "output_type": "execute_result"
    }
   ],
   "source": [
    "mascota1.estado()"
   ]
  },
  {
   "cell_type": "code",
   "execution_count": 85,
   "metadata": {},
   "outputs": [
    {
     "name": "stdout",
     "output_type": "stream",
     "text": [
      "El hambre es 0\n"
     ]
    }
   ],
   "source": [
    "mascota1.alimentar(300)"
   ]
  },
  {
   "cell_type": "code",
   "execution_count": 89,
   "metadata": {},
   "outputs": [
    {
     "name": "stdout",
     "output_type": "stream",
     "text": [
      "{'especie': 'orangutan', 'edad': '7', 'nombre': 'Mishi', 'hambre': 0, 'energia': 110, 'animo': 150}\n"
     ]
    }
   ],
   "source": [
    "caos = Mascota(especie=\"orangutan\",edad=\"7\", nombre=\"Mishi\", hambre=0, energia=110, animo=150)\n",
    "print(caos.__dict__)"
   ]
  },
  {
   "cell_type": "code",
   "execution_count": 90,
   "metadata": {},
   "outputs": [
    {
     "data": {
      "text/plain": [
       "{'especie': 'orangutan',\n",
       " 'edad': '7',\n",
       " 'nombre': 'Mishi',\n",
       " 'hambre': 0,\n",
       " 'energia': 110,\n",
       " 'animo': 150}"
      ]
     },
     "execution_count": 90,
     "metadata": {},
     "output_type": "execute_result"
    }
   ],
   "source": [
    "caos.estado()"
   ]
  },
  {
   "cell_type": "code",
   "execution_count": 145,
   "metadata": {},
   "outputs": [],
   "source": [
    "#EJERCICIO 4\n",
    "\n",
    "#crea una variable\n",
    "\n"
   ]
  },
  {
   "cell_type": "code",
   "execution_count": 144,
   "metadata": {},
   "outputs": [],
   "source": [
    "variable = [{\"cosas\":([{\"clave\":[0]}, {\"clave\":[1]}, {\"clave\":[2]}],)}] #lista"
   ]
  },
  {
   "cell_type": "code",
   "execution_count": 121,
   "metadata": {},
   "outputs": [
    {
     "data": {
      "text/plain": [
       "{'cosas'}"
      ]
     },
     "execution_count": 121,
     "metadata": {},
     "output_type": "execute_result"
    }
   ],
   "source": [
    "set({\"cosas\": [1,2,3]}) #se queda solo con claves / a los sets no les gustan los diccionarios"
   ]
  },
  {
   "cell_type": "code",
   "execution_count": 116,
   "metadata": {},
   "outputs": [
    {
     "name": "stdout",
     "output_type": "stream",
     "text": [
      "[8, 2, 3]\n"
     ]
    }
   ],
   "source": [
    "a = set([8,2,3])\n",
    "print(list(a))\n"
   ]
  },
  {
   "cell_type": "code",
   "execution_count": 120,
   "metadata": {},
   "outputs": [
    {
     "data": {
      "text/plain": [
       "8"
      ]
     },
     "execution_count": 120,
     "metadata": {},
     "output_type": "execute_result"
    }
   ],
   "source": [
    "list(a)[0]"
   ]
  },
  {
   "cell_type": "code",
   "execution_count": 206,
   "metadata": {},
   "outputs": [
    {
     "data": {
      "text/plain": [
       "1"
      ]
     },
     "execution_count": 206,
     "metadata": {},
     "output_type": "execute_result"
    }
   ],
   "source": [
    "caos = [{\"cosas\":([{\"clave\":[1]}, {\"clave\":[2]}, {\"clave\":[3]}],)}]\n",
    "len(caos)\n",
    "\n",
    "#dict.keys()"
   ]
  },
  {
   "cell_type": "code",
   "execution_count": 217,
   "metadata": {},
   "outputs": [
    {
     "name": "stdout",
     "output_type": "stream",
     "text": [
      "3\n",
      "2\n",
      "8\n"
     ]
    },
    {
     "data": {
      "text/plain": [
       "13"
      ]
     },
     "execution_count": 217,
     "metadata": {},
     "output_type": "execute_result"
    }
   ],
   "source": [
    "caos = [{\"cosas\":([{\"clave\":[3]}, {\"clave\":[2]}, {\"clave\":[8]}],)}]\n",
    "\n",
    "numeritos=[]\n",
    "for diccionarios in caos [0][\"cosas\"][0]:\n",
    "    print(diccionarios[\"clave\"][0])\n",
    "    numeritos.append(diccionarios[\"clave\"][0])\n",
    "sum(numeritos)"
   ]
  },
  {
   "cell_type": "code",
   "execution_count": 220,
   "metadata": {},
   "outputs": [
    {
     "data": {
      "text/plain": [
       "[2, 3, 8]"
      ]
     },
     "execution_count": 220,
     "metadata": {},
     "output_type": "execute_result"
    }
   ],
   "source": [
    "list(numeritos)\n",
    "sorted(list(numeritos))\n"
   ]
  },
  {
   "cell_type": "code",
   "execution_count": 230,
   "metadata": {},
   "outputs": [
    {
     "name": "stdout",
     "output_type": "stream",
     "text": [
      "3\n",
      "2\n",
      "8\n"
     ]
    }
   ],
   "source": [
    "class Meollo:\n",
    "    def __init__(self, caos):\n",
    "        self.caos = caos\n",
    "    def check(self):\n",
    "        return self.__dict__\n",
    "    def sumar(self):\n",
    "\n",
    "        numeritos=[]\n",
    "        for diccionarios in caos [0][\"cosas\"][0]:\n",
    "            print(diccionarios[\"clave\"][0])\n",
    "            numeritos.append(diccionarios[\"clave\"][0])\n",
    "        return sum(numeritos)\n",
    "    \n",
    "    def scramble(self):\n",
    "\n",
    "        num1 = self.caos[0][\"cosas\"][0][0][\"clave\"][0]\n",
    "        num2 = self.caos[0][\"cosas\"][0][1][\"clave\"][0]\n",
    "        num3 = self.caos[0][\"cosas\"][0][2][\"clave\"][0]\n",
    "        \n",
    "        self.caos[0][\"cosas\"][0][0][\"clave\"][0] = num2\n",
    "        self.caos[0][\"cosas\"][0][1][\"clave\"][0] = num3\n",
    "        self.caos[0][\"cosas\"][0][2][\"clave\"][0] = num1\n",
    "\n",
    "meollo = Meollo(caos)\n",
    "meollo.caos\n",
    "\n",
    "meollo.sumar()\n",
    "\n",
    "meollo.scramble()\n",
    "        "
   ]
  },
  {
   "cell_type": "code",
   "execution_count": 224,
   "metadata": {},
   "outputs": [
    {
     "data": {
      "text/plain": [
       "[{'cosas': ([{'clave': [3]}, {'clave': [2]}, {'clave': [8]}],)}]"
      ]
     },
     "execution_count": 224,
     "metadata": {},
     "output_type": "execute_result"
    }
   ],
   "source": [
    "meollo = Meollo(caos)\n",
    "meollo.caos"
   ]
  },
  {
   "cell_type": "code",
   "execution_count": 225,
   "metadata": {},
   "outputs": [
    {
     "name": "stdout",
     "output_type": "stream",
     "text": [
      "3\n",
      "2\n",
      "8\n"
     ]
    },
    {
     "data": {
      "text/plain": [
       "13"
      ]
     },
     "execution_count": 225,
     "metadata": {},
     "output_type": "execute_result"
    }
   ],
   "source": [
    "meollo.sumar()"
   ]
  },
  {
   "cell_type": "code",
   "execution_count": 211,
   "metadata": {},
   "outputs": [
    {
     "data": {
      "text/plain": [
       "{'cosas': ([{'clave': [1]}, {'clave': [2]}, {'clave': [3]}],)}"
      ]
     },
     "execution_count": 211,
     "metadata": {},
     "output_type": "execute_result"
    }
   ],
   "source": [
    "caos[0]"
   ]
  },
  {
   "cell_type": "code",
   "execution_count": 203,
   "metadata": {},
   "outputs": [
    {
     "data": {
      "text/plain": [
       "10"
      ]
     },
     "execution_count": 203,
     "metadata": {},
     "output_type": "execute_result"
    }
   ],
   "source": [
    "d = {\"nombre\": \"valeria\", \"apellido\":\"vivas\", \"notas\":[{\"mates\":10},{\"mates\":2}]}\n",
    "d[\"notas\"][0][\"mates\"]\n"
   ]
  },
  {
   "cell_type": "code",
   "execution_count": 196,
   "metadata": {},
   "outputs": [
    {
     "name": "stdout",
     "output_type": "stream",
     "text": [
      "hola\n"
     ]
    }
   ],
   "source": [
    "for nota in d[\"notas\"][1]:\n",
    "    print(\"hola\")"
   ]
  },
  {
   "cell_type": "code",
   "execution_count": null,
   "metadata": {},
   "outputs": [],
   "source": [
    "#EJERCICIO // crea una clase que se llama Meollo. A Meollo solo tiene un atributo en el init \"caos\"\n",
    "# suma de los numeritos\n",
    "# scramble_numeritos\n",
    "\n",
    "variable = [{\"cosas\":([{\"clave\":[0]}, {\"clave\":[1]}, {\"clave\":[2]}],)}]\n",
    "dict.keys()\n",
    "\n",
    "class Caos\n",
    "\n",
    "    def __init__(self,cosas, clave):\n",
    "        self.cosas = cosas\n",
    "        self.clave = clave\n",
    "\n",
    "\n"
   ]
  },
  {
   "cell_type": "code",
   "execution_count": 252,
   "metadata": {},
   "outputs": [],
   "source": [
    "# EJERCICIO MOVIL\n",
    "\n",
    "class Movil:\n",
    "\n",
    "    def __init__(self, marca, camara, memoria, carga=60.0, bateria=True):\n",
    "        self.bateria = bateria\n",
    "        self.marca = marca\n",
    "        self.carga = carga\n",
    "        self.camara = camara\n",
    "        self.memoria = memoria\n",
    "\n",
    "    def cargar(self):\n",
    "        nueva_carga = self.carga*1.3\n",
    "        if nueva_carga >= 100:\n",
    "            print(\"Bateria cargarda\")\n",
    "            nueva_carga = 100\n",
    "        self.carga = nueva.carga\n",
    "        return self.carga\n",
    "\n",
    "       \n",
    "    #Deberás crear el método de `cargar()`, lo que hará será incrementar la batería un 30%. \n",
    "    #Si llega al 100% no aumentará más y devolverá un mensaje de `Batería cargada`. \n",
    "    #Deberá devolver el estado de la batería tras cargar.\n",
    "\n",
    "    def hacer_foto(self, n_fotos):\n",
    "        nueva_memoria = self.memoria - n.fotos\n",
    "        if nueva_memoria < 0:\n",
    "            print(\"Memoria insuficiente\")\n",
    "            return self.memoria\n",
    "        self.memoria = nueva_memoria\n",
    "                     \n",
    "        return self.memoria\n"
   ]
  },
  {
   "cell_type": "code",
   "execution_count": 249,
   "metadata": {},
   "outputs": [],
   "source": [
    "movil1 = Movil(\"Samsung\", 15, 1000, 45.5)\n",
    "movil2 = Movil(\"Xiaomi\", 15, 1000)\n",
    "movil3 = Movil(\"Apple\", 16, 500)"
   ]
  },
  {
   "cell_type": "code",
   "execution_count": 255,
   "metadata": {},
   "outputs": [
    {
     "ename": "SyntaxError",
     "evalue": "invalid syntax (4135327914.py, line 1)",
     "output_type": "error",
     "traceback": [
      "\u001b[1;36m  Cell \u001b[1;32mIn[255], line 1\u001b[1;36m\u001b[0m\n\u001b[1;33m    movil2.[hacer_foto]\u001b[0m\n\u001b[1;37m           ^\u001b[0m\n\u001b[1;31mSyntaxError\u001b[0m\u001b[1;31m:\u001b[0m invalid syntax\n"
     ]
    }
   ],
   "source": [
    "movil2.[hacer_foto]"
   ]
  },
  {
   "cell_type": "markdown",
   "metadata": {},
   "source": [
    "Deberás crear el método de `hacer_foto()`, con un argumento de entrada llamado `n_fotos` de tipo entero que será el número de fotos a realizar. Cada una de esas fotos, ocuparán memoria, por lo que deberá actualizar su atributo. Deberá devolver la memoria restante, y en caso de que se quede sin memoria, no se realizarán las fotos y deberá devolver un mensaje de `Memoria insuficiente`"
   ]
  }
 ],
 "metadata": {
  "kernelspec": {
   "display_name": "Python 3.7.4 64-bit",
   "language": "python",
   "name": "python3"
  },
  "language_info": {
   "codemirror_mode": {
    "name": "ipython",
    "version": 3
   },
   "file_extension": ".py",
   "mimetype": "text/x-python",
   "name": "python",
   "nbconvert_exporter": "python",
   "pygments_lexer": "ipython3",
   "version": "3.12.2"
  },
  "vscode": {
   "interpreter": {
    "hash": "90139cb9a825bf3d63f6f6704e828dbd1ff7edbd4d0c6e906a71235d6efc74af"
   }
  }
 },
 "nbformat": 4,
 "nbformat_minor": 4
}
