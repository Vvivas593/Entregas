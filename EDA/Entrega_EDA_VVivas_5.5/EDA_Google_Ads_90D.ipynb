{
 "cells": [
  {
   "cell_type": "markdown",
   "metadata": {},
   "source": [
    "Proyecto Andrómeda\n",
    "Mayo, 2024\n",
    "Valeria Vivas\n",
    "Data Science Bootcamp"
   ]
  },
  {
   "cell_type": "markdown",
   "metadata": {},
   "source": [
    "El informe a continuacion detalla el racional del Proyecto Andrómeda asi como los calculos que respaldan la propuesta del proyecto."
   ]
  },
  {
   "cell_type": "markdown",
   "metadata": {},
   "source": [
    "Origen de los datos: El contexto tiene como fuentes el sitio web del Fondo Monetario Internacional (FMI), el Portal de Transparencia de la ONU, el sitio web de UNICEF, el sitio web estadounidense de la Administración Internacional de Comercio, así como los resultados de las cuentas de anuncios en Google de algunos países en Latinoamérica."
   ]
  },
  {
   "cell_type": "code",
   "execution_count": null,
   "metadata": {},
   "outputs": [],
   "source": [
    "CONTEXTO\n",
    "\n",
    "El FMI ha clasificado los países en el mundo en base a varios criterios que describen la calidad de vida de sus habitantes, así como el acceso libre a educación, \n",
    "alimentación, salud y seguridad, entre los principales.\n",
    "\n",
    "Existen 3 grupos principales:\n",
    "\n",
    "- Países avanzados y desarrollados: en los cuales sus gobiernos garantizan los derechos humanos anteriormente expuestos.\n",
    "- Países emergentes y en desarrollo: mercados en desarrollo en los que los derechos humanos se cumplen parcialmente por parte de la administración pública.\n",
    "- Países menos desarrollados: países en los que existe un déficit importante en la estabilidad de la vida e infraestructura que los gobiernos son capaces de proveer \n",
    "a sus ciudadanos.\n",
    "\n",
    "Los programas sociales de organismos internacionales se centran en los países emergentes y en los menos desarrollados, con el fin de cubrir la brecha más representativa \n",
    "en las áreas de salud, educación y políticas sociales que protejan los derechos humanos de los ciudadanos mediante leyes.\n",
    "\n",
    "Geográficamente, los países avanzados están en Norteamérica, Europa occidental y Asia. Mientras que los países emergentes se componen de América Central y del Sur, Rusia, \n",
    "Asia y Medio Oriente. \n",
    "Los países menos desarrollados se concentran en África y algunos países en Oriente Medio y Asia.\n"
   ]
  },
  {
   "cell_type": "markdown",
   "metadata": {},
   "source": [
    "Tiene sentido que la inversión de los programas sociales de la ONU se centre en países menos desarrollados de África, Medio Oriente y Asia. Durante los últimos años, gran parte de este presupuesto fue financiado por campañas de recaudación de fondos en países avanzados y desarrollados. Sin embargo, en los últimos dos años, las guerras de Ucrania e Israel han presionado a varias economías en el mundo y especialmente a la de los países avanzados, que se vio afectada por la inflación. Esto ha resultado en una baja del 30% y 20% en la recaudación durante el 2022 y 2023, respectivamente. \n",
    "\n",
    "Haciendo un análisis muy crítico de la capacidad local de un país para financiar sus programas sociales, vemos una brecha del 70% en promedio. Esto no significa que los proyectos estén desfinanciados actualmente, porque existen otras fuentes de ingreso, pero ponen a ciertos programas en un estado de vulnerabilidad si dependen de fondos externos para poder llevarse a cabo."
   ]
  },
  {
   "cell_type": "markdown",
   "metadata": {},
   "source": [
    "Por otro lado, al estudiar las tendencias de comercio en línea y bancarización en África, el continente más vulnerable, es claro que África se encuentra cerca del punto de quiebre por el que pasó Asia y Latinoamérica hace algunos años. En aquel entonces, el crecimiento de transacciones en línea y la penetración de la población con acceso a la banca propuso un escenario más propicio para iniciar una operación digital que recaude fondos para apoyar proyectos sociales.\n",
    "\n",
    "Los paises aptos para un piloto son: Egipto, Kenia, Sudáfrica, Nigeria y Marruecos. \n",
    "\n",
    "El Proyecto Andrómeda propone un piloto en 5 países de África durante 6 meses para luego evaluar la posibilidad de conseguir fondos localmente y desarrollar proyectos autosostenibles, o al menos reducir la brecha de financiamiento local."
   ]
  },
  {
   "cell_type": "markdown",
   "metadata": {},
   "source": []
  },
  {
   "cell_type": "markdown",
   "metadata": {},
   "source": [
    "\"EDA\" es la abreviatura de \"Análisis Exploratorio de Datos\" en español."
   ]
  },
  {
   "cell_type": "markdown",
   "metadata": {},
   "source": [
    "Para la propuesta del piloto, este documento se centrará en la inversión en anuncios de Google y tomará como ejemplo la inversión y desempeño de 6 países en Latinoamérica. La muestra de países es amplia y considera operaciones de 2 a 8 años de antigüedad, así como poblaciones de 4 a 129 millones de habitantes, para analizar la correlación entre la antigüedad y el tamaño de la población en la inversión y los resultados.\n",
    "\n",
    "Los países a evaluarse son: México, Argentina, Uruguay, República Dominicana, Ecuador y Perú. \n",
    "El período de evaluación es de 90 días (febrero - abril 2024) e incluye las plataformas utilizadas por cada país: Performance Max, Search, Demand Gen, YouTube y Display. "
   ]
  },
  {
   "cell_type": "markdown",
   "metadata": {},
   "source": [
    "Muestra de las bases de datos:"
   ]
  },
  {
   "cell_type": "code",
   "execution_count": 2,
   "metadata": {},
   "outputs": [],
   "source": [
    "import pandas as pd\n",
    "import numpy as np"
   ]
  },
  {
   "cell_type": "code",
   "execution_count": 3,
   "metadata": {},
   "outputs": [],
   "source": [
    "df_argentina = pd.read_csv('Bases_de_datos/Google_Ads_Argentina.csv', sep=\",\")\n",
    "df_ecuador = pd.read_csv('Bases_de_datos/Google_Ads_Ecuador.csv', sep=\",\")\n",
    "df_mexico = pd.read_csv('Bases_de_datos/Google_Ads_Mexico.csv', sep=\",\")\n",
    "df_uruguay = pd.read_csv('Bases_de_datos/Google_Ads_Uruguay.csv', sep=\",\")\n",
    "df_total = pd.read_csv('Bases_de_datos/Base_total.csv', sep=\",\") #consolida las 4 bases anteriores\n",
    "\n"
   ]
  },
  {
   "cell_type": "code",
   "execution_count": 4,
   "metadata": {},
   "outputs": [
    {
     "data": {
      "text/html": [
       "<div>\n",
       "<style scoped>\n",
       "    .dataframe tbody tr th:only-of-type {\n",
       "        vertical-align: middle;\n",
       "    }\n",
       "\n",
       "    .dataframe tbody tr th {\n",
       "        vertical-align: top;\n",
       "    }\n",
       "\n",
       "    .dataframe thead th {\n",
       "        text-align: right;\n",
       "    }\n",
       "</style>\n",
       "<table border=\"1\" class=\"dataframe\">\n",
       "  <thead>\n",
       "    <tr style=\"text-align: right;\">\n",
       "      <th></th>\n",
       "      <th>Country</th>\n",
       "      <th>Week</th>\n",
       "      <th>Currency code</th>\n",
       "      <th>Budget</th>\n",
       "      <th>Budget type</th>\n",
       "      <th>Campaign type</th>\n",
       "      <th>Impr.</th>\n",
       "      <th>Interactions</th>\n",
       "      <th>Cost</th>\n",
       "      <th>Engagements</th>\n",
       "      <th>Purchase</th>\n",
       "      <th>Conversion goals</th>\n",
       "      <th>Bid strategy type</th>\n",
       "      <th>Clicks</th>\n",
       "      <th>Revenue</th>\n",
       "    </tr>\n",
       "  </thead>\n",
       "  <tbody>\n",
       "    <tr>\n",
       "      <th>0</th>\n",
       "      <td>Dominican_Republic</td>\n",
       "      <td>2/26/2024</td>\n",
       "      <td>USD</td>\n",
       "      <td>39.000000</td>\n",
       "      <td>Daily</td>\n",
       "      <td>Performance Max</td>\n",
       "      <td>0</td>\n",
       "      <td>0</td>\n",
       "      <td>0.000000</td>\n",
       "      <td>0</td>\n",
       "      <td>0.00</td>\n",
       "      <td>[PURCHASE/WEBSITE]</td>\n",
       "      <td>Maximize Conversions</td>\n",
       "      <td>0</td>\n",
       "      <td>0.0</td>\n",
       "    </tr>\n",
       "    <tr>\n",
       "      <th>1</th>\n",
       "      <td>Dominican_Republic</td>\n",
       "      <td>3/11/2024</td>\n",
       "      <td>USD</td>\n",
       "      <td>39.000000</td>\n",
       "      <td>Daily</td>\n",
       "      <td>Performance Max</td>\n",
       "      <td>0</td>\n",
       "      <td>0</td>\n",
       "      <td>0.000000</td>\n",
       "      <td>0</td>\n",
       "      <td>0.00</td>\n",
       "      <td>[PURCHASE/WEBSITE]</td>\n",
       "      <td>Maximize Conversions</td>\n",
       "      <td>0</td>\n",
       "      <td>0.0</td>\n",
       "    </tr>\n",
       "    <tr>\n",
       "      <th>2</th>\n",
       "      <td>Dominican_Republic</td>\n",
       "      <td>1/29/2024</td>\n",
       "      <td>USD</td>\n",
       "      <td>39.000000</td>\n",
       "      <td>Daily</td>\n",
       "      <td>Performance Max</td>\n",
       "      <td>0</td>\n",
       "      <td>0</td>\n",
       "      <td>0.000000</td>\n",
       "      <td>0</td>\n",
       "      <td>0.00</td>\n",
       "      <td>[PURCHASE/WEBSITE]</td>\n",
       "      <td>Maximize Conversions</td>\n",
       "      <td>0</td>\n",
       "      <td>0.0</td>\n",
       "    </tr>\n",
       "    <tr>\n",
       "      <th>3</th>\n",
       "      <td>Dominican_Republic</td>\n",
       "      <td>4/8/2024</td>\n",
       "      <td>USD</td>\n",
       "      <td>39.000000</td>\n",
       "      <td>Daily</td>\n",
       "      <td>Performance Max</td>\n",
       "      <td>0</td>\n",
       "      <td>0</td>\n",
       "      <td>0.000000</td>\n",
       "      <td>0</td>\n",
       "      <td>0.00</td>\n",
       "      <td>[PURCHASE/WEBSITE]</td>\n",
       "      <td>Maximize Conversions</td>\n",
       "      <td>0</td>\n",
       "      <td>0.0</td>\n",
       "    </tr>\n",
       "    <tr>\n",
       "      <th>4</th>\n",
       "      <td>Dominican_Republic</td>\n",
       "      <td>4/15/2024</td>\n",
       "      <td>USD</td>\n",
       "      <td>39.000000</td>\n",
       "      <td>Daily</td>\n",
       "      <td>Performance Max</td>\n",
       "      <td>0</td>\n",
       "      <td>0</td>\n",
       "      <td>0.000000</td>\n",
       "      <td>0</td>\n",
       "      <td>0.00</td>\n",
       "      <td>[PURCHASE/WEBSITE]</td>\n",
       "      <td>Maximize Conversions</td>\n",
       "      <td>0</td>\n",
       "      <td>0.0</td>\n",
       "    </tr>\n",
       "    <tr>\n",
       "      <th>...</th>\n",
       "      <td>...</td>\n",
       "      <td>...</td>\n",
       "      <td>...</td>\n",
       "      <td>...</td>\n",
       "      <td>...</td>\n",
       "      <td>...</td>\n",
       "      <td>...</td>\n",
       "      <td>...</td>\n",
       "      <td>...</td>\n",
       "      <td>...</td>\n",
       "      <td>...</td>\n",
       "      <td>...</td>\n",
       "      <td>...</td>\n",
       "      <td>...</td>\n",
       "      <td>...</td>\n",
       "    </tr>\n",
       "    <tr>\n",
       "      <th>3005</th>\n",
       "      <td>Argentina</td>\n",
       "      <td>4/15/2024</td>\n",
       "      <td>USD</td>\n",
       "      <td>30.949714</td>\n",
       "      <td>Daily</td>\n",
       "      <td>Demand Gen</td>\n",
       "      <td>303,669</td>\n",
       "      <td>18,223</td>\n",
       "      <td>200.524731</td>\n",
       "      <td>13,537</td>\n",
       "      <td>0.00</td>\n",
       "      <td>[SUBMIT_LEAD_FORM/WEBSITE]</td>\n",
       "      <td>Maximize Conversions</td>\n",
       "      <td>9,384</td>\n",
       "      <td>0.0</td>\n",
       "    </tr>\n",
       "    <tr>\n",
       "      <th>3006</th>\n",
       "      <td>Argentina</td>\n",
       "      <td>3/11/2024</td>\n",
       "      <td>USD</td>\n",
       "      <td>9.714286</td>\n",
       "      <td>Daily</td>\n",
       "      <td>Search</td>\n",
       "      <td>13,757</td>\n",
       "      <td>502</td>\n",
       "      <td>24.844057</td>\n",
       "      <td>0</td>\n",
       "      <td>2.33</td>\n",
       "      <td>[PURCHASE/WEBSITE]</td>\n",
       "      <td>Maximize Conversions (Target CPA)</td>\n",
       "      <td>502</td>\n",
       "      <td>209.7</td>\n",
       "    </tr>\n",
       "    <tr>\n",
       "      <th>3007</th>\n",
       "      <td>Argentina</td>\n",
       "      <td>4/22/2024</td>\n",
       "      <td>USD</td>\n",
       "      <td>20.571429</td>\n",
       "      <td>Daily</td>\n",
       "      <td>Search</td>\n",
       "      <td>2,756</td>\n",
       "      <td>634</td>\n",
       "      <td>26.666914</td>\n",
       "      <td>0</td>\n",
       "      <td>8.33</td>\n",
       "      <td>[PURCHASE/WEBSITE]</td>\n",
       "      <td>Maximize Conversions (Target CPA)</td>\n",
       "      <td>634</td>\n",
       "      <td>749.7</td>\n",
       "    </tr>\n",
       "    <tr>\n",
       "      <th>3008</th>\n",
       "      <td>Argentina</td>\n",
       "      <td>2/12/2024</td>\n",
       "      <td>USD</td>\n",
       "      <td>20.571429</td>\n",
       "      <td>Daily</td>\n",
       "      <td>Search</td>\n",
       "      <td>3,110</td>\n",
       "      <td>650</td>\n",
       "      <td>75.528434</td>\n",
       "      <td>0</td>\n",
       "      <td>17.00</td>\n",
       "      <td>[PURCHASE/WEBSITE]</td>\n",
       "      <td>Maximize Conversions (Target CPA)</td>\n",
       "      <td>650</td>\n",
       "      <td>1530.0</td>\n",
       "    </tr>\n",
       "    <tr>\n",
       "      <th>3009</th>\n",
       "      <td>Argentina</td>\n",
       "      <td>3/25/2024</td>\n",
       "      <td>USD</td>\n",
       "      <td>9.714286</td>\n",
       "      <td>Daily</td>\n",
       "      <td>Search</td>\n",
       "      <td>11,885</td>\n",
       "      <td>432</td>\n",
       "      <td>7.572880</td>\n",
       "      <td>0</td>\n",
       "      <td>1.00</td>\n",
       "      <td>[PURCHASE/WEBSITE]</td>\n",
       "      <td>Maximize Conversions (Target CPA)</td>\n",
       "      <td>432</td>\n",
       "      <td>90.0</td>\n",
       "    </tr>\n",
       "  </tbody>\n",
       "</table>\n",
       "<p>3010 rows × 15 columns</p>\n",
       "</div>"
      ],
      "text/plain": [
       "                 Country       Week Currency code     Budget Budget type  \\\n",
       "0     Dominican_Republic  2/26/2024           USD  39.000000       Daily   \n",
       "1     Dominican_Republic  3/11/2024           USD  39.000000       Daily   \n",
       "2     Dominican_Republic  1/29/2024           USD  39.000000       Daily   \n",
       "3     Dominican_Republic   4/8/2024           USD  39.000000       Daily   \n",
       "4     Dominican_Republic  4/15/2024           USD  39.000000       Daily   \n",
       "...                  ...        ...           ...        ...         ...   \n",
       "3005           Argentina  4/15/2024           USD  30.949714       Daily   \n",
       "3006           Argentina  3/11/2024           USD   9.714286       Daily   \n",
       "3007           Argentina  4/22/2024           USD  20.571429       Daily   \n",
       "3008           Argentina  2/12/2024           USD  20.571429       Daily   \n",
       "3009           Argentina  3/25/2024           USD   9.714286       Daily   \n",
       "\n",
       "        Campaign type    Impr. Interactions        Cost Engagements  Purchase  \\\n",
       "0     Performance Max        0            0    0.000000           0      0.00   \n",
       "1     Performance Max        0            0    0.000000           0      0.00   \n",
       "2     Performance Max        0            0    0.000000           0      0.00   \n",
       "3     Performance Max        0            0    0.000000           0      0.00   \n",
       "4     Performance Max        0            0    0.000000           0      0.00   \n",
       "...               ...      ...          ...         ...         ...       ...   \n",
       "3005       Demand Gen  303,669       18,223  200.524731      13,537      0.00   \n",
       "3006           Search   13,757          502   24.844057           0      2.33   \n",
       "3007           Search    2,756          634   26.666914           0      8.33   \n",
       "3008           Search    3,110          650   75.528434           0     17.00   \n",
       "3009           Search   11,885          432    7.572880           0      1.00   \n",
       "\n",
       "                Conversion goals                  Bid strategy type Clicks  \\\n",
       "0             [PURCHASE/WEBSITE]               Maximize Conversions      0   \n",
       "1             [PURCHASE/WEBSITE]               Maximize Conversions      0   \n",
       "2             [PURCHASE/WEBSITE]               Maximize Conversions      0   \n",
       "3             [PURCHASE/WEBSITE]               Maximize Conversions      0   \n",
       "4             [PURCHASE/WEBSITE]               Maximize Conversions      0   \n",
       "...                          ...                                ...    ...   \n",
       "3005  [SUBMIT_LEAD_FORM/WEBSITE]               Maximize Conversions  9,384   \n",
       "3006          [PURCHASE/WEBSITE]  Maximize Conversions (Target CPA)    502   \n",
       "3007          [PURCHASE/WEBSITE]  Maximize Conversions (Target CPA)    634   \n",
       "3008          [PURCHASE/WEBSITE]  Maximize Conversions (Target CPA)    650   \n",
       "3009          [PURCHASE/WEBSITE]  Maximize Conversions (Target CPA)    432   \n",
       "\n",
       "      Revenue  \n",
       "0         0.0  \n",
       "1         0.0  \n",
       "2         0.0  \n",
       "3         0.0  \n",
       "4         0.0  \n",
       "...       ...  \n",
       "3005      0.0  \n",
       "3006    209.7  \n",
       "3007    749.7  \n",
       "3008   1530.0  \n",
       "3009     90.0  \n",
       "\n",
       "[3010 rows x 15 columns]"
      ]
     },
     "execution_count": 4,
     "metadata": {},
     "output_type": "execute_result"
    }
   ],
   "source": [
    "df_total"
   ]
  },
  {
   "cell_type": "code",
   "execution_count": null,
   "metadata": {},
   "outputs": [],
   "source": [
    "Las principales métricas a analizarse son:\n",
    "- CPA (Costo por Adquisición), que se refiere al costo de generar una donación y se calcula dividiendo la inversión en publicidad entre la cantidad de donaciones \n",
    "durante un periodo.\n",
    "- ROAS (Return on Advertisement Investment), que se refiere a la efectividad de la inversión y se calcula al dividir el ingreso entre la inversión en publicidad. \n",
    "Lo ideal es que sea mayor a 1.\n",
    "\n",
    "La importancia de estas métricas radica en que miden la efectividad de la inversión y, al ser ratios, permiten comparar operaciones entre países, independientemente \n",
    "del nivel de inversión."
   ]
  },
  {
   "cell_type": "code",
   "execution_count": 5,
   "metadata": {},
   "outputs": [
    {
     "data": {
      "text/plain": [
       "<bound method DataFrame.info of                  Country       Week Currency code     Budget Budget type  \\\n",
       "0     Dominican_Republic  2/26/2024           USD  39.000000       Daily   \n",
       "1     Dominican_Republic  3/11/2024           USD  39.000000       Daily   \n",
       "2     Dominican_Republic  1/29/2024           USD  39.000000       Daily   \n",
       "3     Dominican_Republic   4/8/2024           USD  39.000000       Daily   \n",
       "4     Dominican_Republic  4/15/2024           USD  39.000000       Daily   \n",
       "...                  ...        ...           ...        ...         ...   \n",
       "3005           Argentina  4/15/2024           USD  30.949714       Daily   \n",
       "3006           Argentina  3/11/2024           USD   9.714286       Daily   \n",
       "3007           Argentina  4/22/2024           USD  20.571429       Daily   \n",
       "3008           Argentina  2/12/2024           USD  20.571429       Daily   \n",
       "3009           Argentina  3/25/2024           USD   9.714286       Daily   \n",
       "\n",
       "        Campaign type    Impr. Interactions        Cost Engagements  Purchase  \\\n",
       "0     Performance Max        0            0    0.000000           0      0.00   \n",
       "1     Performance Max        0            0    0.000000           0      0.00   \n",
       "2     Performance Max        0            0    0.000000           0      0.00   \n",
       "3     Performance Max        0            0    0.000000           0      0.00   \n",
       "4     Performance Max        0            0    0.000000           0      0.00   \n",
       "...               ...      ...          ...         ...         ...       ...   \n",
       "3005       Demand Gen  303,669       18,223  200.524731      13,537      0.00   \n",
       "3006           Search   13,757          502   24.844057           0      2.33   \n",
       "3007           Search    2,756          634   26.666914           0      8.33   \n",
       "3008           Search    3,110          650   75.528434           0     17.00   \n",
       "3009           Search   11,885          432    7.572880           0      1.00   \n",
       "\n",
       "                Conversion goals                  Bid strategy type Clicks  \\\n",
       "0             [PURCHASE/WEBSITE]               Maximize Conversions      0   \n",
       "1             [PURCHASE/WEBSITE]               Maximize Conversions      0   \n",
       "2             [PURCHASE/WEBSITE]               Maximize Conversions      0   \n",
       "3             [PURCHASE/WEBSITE]               Maximize Conversions      0   \n",
       "4             [PURCHASE/WEBSITE]               Maximize Conversions      0   \n",
       "...                          ...                                ...    ...   \n",
       "3005  [SUBMIT_LEAD_FORM/WEBSITE]               Maximize Conversions  9,384   \n",
       "3006          [PURCHASE/WEBSITE]  Maximize Conversions (Target CPA)    502   \n",
       "3007          [PURCHASE/WEBSITE]  Maximize Conversions (Target CPA)    634   \n",
       "3008          [PURCHASE/WEBSITE]  Maximize Conversions (Target CPA)    650   \n",
       "3009          [PURCHASE/WEBSITE]  Maximize Conversions (Target CPA)    432   \n",
       "\n",
       "      Revenue  \n",
       "0         0.0  \n",
       "1         0.0  \n",
       "2         0.0  \n",
       "3         0.0  \n",
       "4         0.0  \n",
       "...       ...  \n",
       "3005      0.0  \n",
       "3006    209.7  \n",
       "3007    749.7  \n",
       "3008   1530.0  \n",
       "3009     90.0  \n",
       "\n",
       "[3010 rows x 15 columns]>"
      ]
     },
     "execution_count": 5,
     "metadata": {},
     "output_type": "execute_result"
    }
   ],
   "source": [
    "df_total.info"
   ]
  },
  {
   "cell_type": "code",
   "execution_count": 6,
   "metadata": {},
   "outputs": [
    {
     "data": {
      "text/plain": [
       "<bound method NDFrame.describe of                  Country       Week Currency code     Budget Budget type  \\\n",
       "0     Dominican_Republic  2/26/2024           USD  39.000000       Daily   \n",
       "1     Dominican_Republic  3/11/2024           USD  39.000000       Daily   \n",
       "2     Dominican_Republic  1/29/2024           USD  39.000000       Daily   \n",
       "3     Dominican_Republic   4/8/2024           USD  39.000000       Daily   \n",
       "4     Dominican_Republic  4/15/2024           USD  39.000000       Daily   \n",
       "...                  ...        ...           ...        ...         ...   \n",
       "3005           Argentina  4/15/2024           USD  30.949714       Daily   \n",
       "3006           Argentina  3/11/2024           USD   9.714286       Daily   \n",
       "3007           Argentina  4/22/2024           USD  20.571429       Daily   \n",
       "3008           Argentina  2/12/2024           USD  20.571429       Daily   \n",
       "3009           Argentina  3/25/2024           USD   9.714286       Daily   \n",
       "\n",
       "        Campaign type    Impr. Interactions        Cost Engagements  Purchase  \\\n",
       "0     Performance Max        0            0    0.000000           0      0.00   \n",
       "1     Performance Max        0            0    0.000000           0      0.00   \n",
       "2     Performance Max        0            0    0.000000           0      0.00   \n",
       "3     Performance Max        0            0    0.000000           0      0.00   \n",
       "4     Performance Max        0            0    0.000000           0      0.00   \n",
       "...               ...      ...          ...         ...         ...       ...   \n",
       "3005       Demand Gen  303,669       18,223  200.524731      13,537      0.00   \n",
       "3006           Search   13,757          502   24.844057           0      2.33   \n",
       "3007           Search    2,756          634   26.666914           0      8.33   \n",
       "3008           Search    3,110          650   75.528434           0     17.00   \n",
       "3009           Search   11,885          432    7.572880           0      1.00   \n",
       "\n",
       "                Conversion goals                  Bid strategy type Clicks  \\\n",
       "0             [PURCHASE/WEBSITE]               Maximize Conversions      0   \n",
       "1             [PURCHASE/WEBSITE]               Maximize Conversions      0   \n",
       "2             [PURCHASE/WEBSITE]               Maximize Conversions      0   \n",
       "3             [PURCHASE/WEBSITE]               Maximize Conversions      0   \n",
       "4             [PURCHASE/WEBSITE]               Maximize Conversions      0   \n",
       "...                          ...                                ...    ...   \n",
       "3005  [SUBMIT_LEAD_FORM/WEBSITE]               Maximize Conversions  9,384   \n",
       "3006          [PURCHASE/WEBSITE]  Maximize Conversions (Target CPA)    502   \n",
       "3007          [PURCHASE/WEBSITE]  Maximize Conversions (Target CPA)    634   \n",
       "3008          [PURCHASE/WEBSITE]  Maximize Conversions (Target CPA)    650   \n",
       "3009          [PURCHASE/WEBSITE]  Maximize Conversions (Target CPA)    432   \n",
       "\n",
       "      Revenue  \n",
       "0         0.0  \n",
       "1         0.0  \n",
       "2         0.0  \n",
       "3         0.0  \n",
       "4         0.0  \n",
       "...       ...  \n",
       "3005      0.0  \n",
       "3006    209.7  \n",
       "3007    749.7  \n",
       "3008   1530.0  \n",
       "3009     90.0  \n",
       "\n",
       "[3010 rows x 15 columns]>"
      ]
     },
     "execution_count": 6,
     "metadata": {},
     "output_type": "execute_result"
    }
   ],
   "source": [
    "df_total.describe"
   ]
  },
  {
   "cell_type": "code",
   "execution_count": 42,
   "metadata": {},
   "outputs": [
    {
     "data": {
      "text/plain": [
       "0             NaN\n",
       "1             NaN\n",
       "2             NaN\n",
       "3             NaN\n",
       "4             NaN\n",
       "          ...    \n",
       "3005          inf\n",
       "3006    10.662685\n",
       "3007     3.201310\n",
       "3008     4.442849\n",
       "3009     7.572880\n",
       "Length: 3010, dtype: float64"
      ]
     },
     "execution_count": 42,
     "metadata": {},
     "output_type": "execute_result"
    }
   ],
   "source": [
    "df_total_CPA = df_total[\"Cost\"]/ df_total[\"Purchase\"]\n",
    "df_total_CPA"
   ]
  },
  {
   "cell_type": "code",
   "execution_count": 43,
   "metadata": {},
   "outputs": [
    {
     "data": {
      "text/plain": [
       "0             NaN\n",
       "1             NaN\n",
       "2             NaN\n",
       "3             NaN\n",
       "4             NaN\n",
       "          ...    \n",
       "3005     0.000000\n",
       "3006     8.440650\n",
       "3007    28.113489\n",
       "3008    20.257272\n",
       "3009    11.884514\n",
       "Length: 3010, dtype: float64"
      ]
     },
     "execution_count": 43,
     "metadata": {},
     "output_type": "execute_result"
    }
   ],
   "source": [
    "df_total_ROAS = df_total[\"Revenue\"]/ df_total[\"Cost\"]\n",
    "df_total_ROAS"
   ]
  },
  {
   "cell_type": "code",
   "execution_count": 73,
   "metadata": {},
   "outputs": [
    {
     "name": "stdout",
     "output_type": "stream",
     "text": [
      "              Country  Purchase         Cost    Revenue\n",
      "0           Argentina    412.97   8356.08248  37167.300\n",
      "1  Dominican_Republic     81.00   5282.26000  12393.000\n",
      "2             Ecuador     92.13  11780.11000   8291.700\n",
      "3              Mexico    214.92  26122.30000  34817.040\n",
      "4                Peru     42.01   4188.86000   4537.080\n",
      "5             Uruguay    398.53  28505.45000  23314.005\n"
     ]
    }
   ],
   "source": [
    "country_df = df.groupby(['Country'])[['Purchase', 'Cost', 'Revenue']].sum().reset_index()\n",
    "\n",
    "print(country_df)"
   ]
  },
  {
   "cell_type": "code",
   "execution_count": 68,
   "metadata": {},
   "outputs": [
    {
     "name": "stdout",
     "output_type": "stream",
     "text": [
      "                    Bid strategy type  Purchase          Cost    Revenue\n",
      "0                      CPC (enhanced)      0.00      0.000000      0.000\n",
      "1                          Manual CPV      1.00   1820.028503     90.000\n",
      "2           Maximize Conversion Value    157.53   8148.880000   9215.505\n",
      "3                Maximize Conversions    457.13  42186.145897  38860.200\n",
      "4   Maximize Conversions (Target CPA)    576.89  27898.458080  66674.340\n",
      "5                     Maximize clicks     46.01   2395.540000   5194.080\n",
      "6                          Target CPA      0.00      0.000000      0.000\n",
      "7                          Target CPM      0.00   1516.350000      0.000\n",
      "8                          Target CPV      0.00      0.000000      0.000\n",
      "9             Target Impression Share      3.00    269.660000    486.000\n",
      "10                       Viewable CPM      0.00      0.000000      0.000\n"
     ]
    }
   ],
   "source": [
    "bid_df = df.groupby(['Bid strategy type'])[['Purchase', 'Cost', 'Revenue']].sum().reset_index()\n",
    "\n",
    "print(bid_df)"
   ]
  },
  {
   "cell_type": "code",
   "execution_count": 71,
   "metadata": {},
   "outputs": [
    {
     "name": "stdout",
     "output_type": "stream",
     "text": [
      "     Campaign type  Purchase          Cost    Revenue\n",
      "0              App      0.00      0.000000      0.000\n",
      "1       Demand Gen    149.09  19832.860400   9509.265\n",
      "2          Display      5.00    603.870000    765.000\n",
      "3  Performance Max    241.26  17314.397691  20586.015\n",
      "4           Search    801.80  37264.335886  85662.945\n",
      "5            Smart      0.00      0.000000      0.000\n",
      "6            Video     44.41   9219.598503   3996.900\n"
     ]
    }
   ],
   "source": [
    "campaign_df = df.groupby(['Campaign type'])[['Purchase', 'Cost', 'Revenue']].sum().reset_index()\n",
    "\n",
    "print(campaign_df)"
   ]
  },
  {
   "cell_type": "code",
   "execution_count": 72,
   "metadata": {},
   "outputs": [
    {
     "name": "stdout",
     "output_type": "stream",
     "text": [
      "                                     Conversion goals  Purchase          Cost  \\\n",
      "0   [ADD_TO_CART/WEBSITE, PURCHASE/WEBSITE, QUALIF...     42.01   4188.860000   \n",
      "1   [BEGIN_CHECKOUT/WEBSITE, DOWNLOAD/APP, PAGE_VI...     76.00   4678.390000   \n",
      "2          [BEGIN_CHECKOUT/WEBSITE, PURCHASE/WEBSITE]      0.00      0.000000   \n",
      "3                            [BEGIN_CHECKOUT/WEBSITE]      0.00      0.000000   \n",
      "4   [CONTACT/WEBSITE, DOWNLOAD/APP, PHONE_CALL_LEA...      1.00   1034.348503   \n",
      "5                                   [CONTACT/WEBSITE]     87.00   1675.349383   \n",
      "6                                      [CUSTOM_EVENT]      0.00    200.740000   \n",
      "7                                   [DEFAULT/WEBSITE]      0.00      0.000000   \n",
      "8   [DOWNLOAD/APP, PAGE_VIEW/WEBSITE, PURCHASE/WEB...      0.00      0.000000   \n",
      "9    [DOWNLOAD/APP, PURCHASE/WEBSITE, SIGNUP/WEBSITE]     28.49   5350.620000   \n",
      "10                                [PAGE_VIEW/WEBSITE]      0.00      0.000000   \n",
      "11                     [PURCHASE/WEBSITE, 6443040842]      0.00      0.000000   \n",
      "12                     [PURCHASE/WEBSITE, 6444470369]      0.00      0.000000   \n",
      "13                                 [PURCHASE/WEBSITE]    818.63  44315.237451   \n",
      "14                                   [SIGNUP/WEBSITE]    186.43  20771.680000   \n",
      "15                         [SUBMIT_LEAD_FORM/WEBSITE]      2.00   2019.837143   \n",
      "\n",
      "      Revenue  \n",
      "0    4537.080  \n",
      "1   11628.000  \n",
      "2       0.000  \n",
      "3       0.000  \n",
      "4      90.000  \n",
      "5    7830.000  \n",
      "6       0.000  \n",
      "7       0.000  \n",
      "8       0.000  \n",
      "9    4615.380  \n",
      "10      0.000  \n",
      "11      0.000  \n",
      "12      0.000  \n",
      "13  61438.005  \n",
      "14  30201.660  \n",
      "15    180.000  \n"
     ]
    }
   ],
   "source": [
    "conversion_df = df.groupby(['Conversion goals'])[['Purchase', 'Cost', 'Revenue']].sum().reset_index()\n",
    "\n",
    "print(conversion_df)"
   ]
  }
 ],
 "metadata": {
  "kernelspec": {
   "display_name": "EDA_ENV",
   "language": "python",
   "name": "python3"
  },
  "language_info": {
   "codemirror_mode": {
    "name": "ipython",
    "version": 3
   },
   "file_extension": ".py",
   "mimetype": "text/x-python",
   "name": "python",
   "nbconvert_exporter": "python",
   "pygments_lexer": "ipython3",
   "version": "3.10.14"
  }
 },
 "nbformat": 4,
 "nbformat_minor": 2
}
