{
 "cells": [
  {
   "cell_type": "markdown",
   "metadata": {},
   "source": [
    "# INFORMACIÓN DEL PROYECTO"
   ]
  },
  {
   "cell_type": "markdown",
   "metadata": {},
   "source": [
    "### TÍTULO"
   ]
  },
  {
   "cell_type": "code",
   "execution_count": null,
   "metadata": {},
   "outputs": [],
   "source": [
    "#Escribe el título del proyecto en Markdown"
   ]
  },
  {
   "cell_type": "markdown",
   "metadata": {},
   "source": [
    "Analisis de inversion en medios digitales durante eventos de alto trafico"
   ]
  },
  {
   "cell_type": "markdown",
   "metadata": {},
   "source": [
    "### TEMA"
   ]
  },
  {
   "cell_type": "code",
   "execution_count": null,
   "metadata": {},
   "outputs": [],
   "source": [
    "# Describe brevemente el tema del proyecto en Markdown"
   ]
  },
  {
   "cell_type": "markdown",
   "metadata": {},
   "source": [
    "Los teletones son eventos benéficos de recaudación de fondos a favor de una causa social que tienen una duración de entre 3 y 6 horas. \n",
    "El evento se transmite por televisión y cuenta con el apoyo de influencers y celebridades. Para maximizar la recaudación de fondos, existe una campaña digital de un mes previo al evento y una semana posterior al mismo. Usualmente, como cierre del evento, se sortea un coche que es donado. El Análisis de Datos Exploratorios (EDA) consiste en analizar los tres últimos teletones y establecer aprendizajes sobre cómo invertir de manera más eficiente en medios digitales para el próximo evento."
   ]
  },
  {
   "cell_type": "markdown",
   "metadata": {},
   "source": [
    "### HIPÓTESIS"
   ]
  },
  {
   "cell_type": "markdown",
   "metadata": {},
   "source": [
    "Define aquí lo que será la hipótesis de tu proyecto.\n",
    "Puede que tengas más de una, pero tu proyecto lo harás teniendo una principal hipótesis."
   ]
  },
  {
   "cell_type": "code",
   "execution_count": null,
   "metadata": {},
   "outputs": [],
   "source": [
    "# Escribe tu hipótesis principal en Markdown"
   ]
  },
  {
   "cell_type": "markdown",
   "metadata": {},
   "source": [
    "Hipótesis 1: Enfocarse en la optimización de la pauta por alcance al inicio y cambiarla a conversión web días antes y después del evento es lo más eficiente para la adquisición de donantes digitales."
   ]
  },
  {
   "cell_type": "code",
   "execution_count": null,
   "metadata": {},
   "outputs": [],
   "source": [
    "# Escribe más hipótesis si las hubiera en Markdown"
   ]
  },
  {
   "cell_type": "markdown",
   "metadata": {},
   "source": [
    "Hipótesis 2: El quilibrio entre anuncios que muestren el coche que se va a sortear y programas sociales es clave para aumentar el volumen de donaciones. "
   ]
  },
  {
   "cell_type": "markdown",
   "metadata": {},
   "source": [
    "Hipótesis 3: El evento de alto tráfico web representa una oportunidad para probar nuevas audiencias que no funcionan bien en la publicidad regular."
   ]
  },
  {
   "cell_type": "markdown",
   "metadata": {},
   "source": [
    "## OBTENCIÓN DE LOS DATOS"
   ]
  },
  {
   "cell_type": "markdown",
   "metadata": {},
   "source": [
    "### DATASETS Y FUENTES ALTERNATIVAS DE DATOS"
   ]
  },
  {
   "cell_type": "markdown",
   "metadata": {},
   "source": [
    "Incluye aquí una breve descripción del dataset o datasets de los que partirás para poder evaluar tu hipótesis. <br>\n",
    "También incluye el origen de estos datos y su fuente."
   ]
  },
  {
   "cell_type": "code",
   "execution_count": null,
   "metadata": {},
   "outputs": [],
   "source": [
    "# describe la fuente de tus datos e incluye los links en Markdown"
   ]
  },
  {
   "cell_type": "markdown",
   "metadata": {},
   "source": [
    "La organización me facilitó datos transaccionales de los últimos 3 teletones de un pais con información sobre la frecuencia de donación (única, mensual), monto, fecha, hora y UTM (fuente de tráfico, contenido y audiencia). Fuente: plataforma e-commerce Afrus"
   ]
  },
  {
   "cell_type": "markdown",
   "metadata": {},
   "source": [
    "Tambien tengo informacion de trafico, clics, visitas a la web de la cuenta en Facebook, Google Ads y Google Analytics."
   ]
  },
  {
   "cell_type": "markdown",
   "metadata": {},
   "source": [
    "Muestra mediante un head() los principales datasets con los que vas a trabajar"
   ]
  },
  {
   "cell_type": "code",
   "execution_count": null,
   "metadata": {},
   "outputs": [],
   "source": [
    "# Siguiente dataset..."
   ]
  },
  {
   "cell_type": "code",
   "execution_count": 4,
   "metadata": {},
   "outputs": [],
   "source": [
    "import pandas as pd\n",
    "\n",
    "df = pd.read_csv(\"Datos_EDA.csv\", encoding=\"latin1\")\n"
   ]
  },
  {
   "cell_type": "code",
   "execution_count": 5,
   "metadata": {},
   "outputs": [
    {
     "data": {
      "text/html": [
       "<div>\n",
       "<style scoped>\n",
       "    .dataframe tbody tr th:only-of-type {\n",
       "        vertical-align: middle;\n",
       "    }\n",
       "\n",
       "    .dataframe tbody tr th {\n",
       "        vertical-align: top;\n",
       "    }\n",
       "\n",
       "    .dataframe thead th {\n",
       "        text-align: right;\n",
       "    }\n",
       "</style>\n",
       "<table border=\"1\" class=\"dataframe\">\n",
       "  <thead>\n",
       "    <tr style=\"text-align: right;\">\n",
       "      <th></th>\n",
       "      <th>Facebook</th>\n",
       "      <th>Google</th>\n",
       "      <th>Paid Media</th>\n",
       "      <th>CPA</th>\n",
       "      <th>CPA solo pledge</th>\n",
       "      <th>Dia</th>\n",
       "      <th>Year</th>\n",
       "      <th>Fecha</th>\n",
       "      <th>Semana</th>\n",
       "      <th>Dia.1</th>\n",
       "      <th>Year.1</th>\n",
       "      <th>Donación única</th>\n",
       "      <th>Nueva recurrencia mensual</th>\n",
       "      <th>Total donaciones</th>\n",
       "      <th>Unnamed: 14</th>\n",
       "      <th>Unnamed: 15</th>\n",
       "      <th>Unnamed: 16</th>\n",
       "      <th>Unnamed: 17</th>\n",
       "    </tr>\n",
       "  </thead>\n",
       "  <tbody>\n",
       "    <tr>\n",
       "      <th>0</th>\n",
       "      <td>$56</td>\n",
       "      <td>$253</td>\n",
       "      <td>$308</td>\n",
       "      <td>$308</td>\n",
       "      <td>$0</td>\n",
       "      <td>-19.0</td>\n",
       "      <td>2024</td>\n",
       "      <td>1-Apr</td>\n",
       "      <td>14.0</td>\n",
       "      <td>-19.0</td>\n",
       "      <td>2024.0</td>\n",
       "      <td>1.0</td>\n",
       "      <td>NaN</td>\n",
       "      <td>1.0</td>\n",
       "      <td>NaN</td>\n",
       "      <td>NaN</td>\n",
       "      <td>NaN</td>\n",
       "      <td>semana santa fin marzo</td>\n",
       "    </tr>\n",
       "    <tr>\n",
       "      <th>1</th>\n",
       "      <td>$52</td>\n",
       "      <td>$293</td>\n",
       "      <td>$346</td>\n",
       "      <td>$173</td>\n",
       "      <td>$346</td>\n",
       "      <td>-18.0</td>\n",
       "      <td>2024</td>\n",
       "      <td>2-Apr</td>\n",
       "      <td>14.0</td>\n",
       "      <td>-18.0</td>\n",
       "      <td>2024.0</td>\n",
       "      <td>1.0</td>\n",
       "      <td>1.0</td>\n",
       "      <td>2.0</td>\n",
       "      <td>NaN</td>\n",
       "      <td>NaN</td>\n",
       "      <td>NaN</td>\n",
       "      <td>NaN</td>\n",
       "    </tr>\n",
       "    <tr>\n",
       "      <th>2</th>\n",
       "      <td>$50</td>\n",
       "      <td>$236</td>\n",
       "      <td>$287</td>\n",
       "      <td>$143</td>\n",
       "      <td>$0</td>\n",
       "      <td>-17.0</td>\n",
       "      <td>2024</td>\n",
       "      <td>3-Apr</td>\n",
       "      <td>14.0</td>\n",
       "      <td>-17.0</td>\n",
       "      <td>2024.0</td>\n",
       "      <td>2.0</td>\n",
       "      <td>NaN</td>\n",
       "      <td>2.0</td>\n",
       "      <td>NaN</td>\n",
       "      <td>NaN</td>\n",
       "      <td>NaN</td>\n",
       "      <td>21 abril - teleton</td>\n",
       "    </tr>\n",
       "    <tr>\n",
       "      <th>3</th>\n",
       "      <td>$54</td>\n",
       "      <td>$234</td>\n",
       "      <td>$288</td>\n",
       "      <td>$96</td>\n",
       "      <td>$288</td>\n",
       "      <td>-16.0</td>\n",
       "      <td>2024</td>\n",
       "      <td>5-Apr</td>\n",
       "      <td>14.0</td>\n",
       "      <td>-16.0</td>\n",
       "      <td>2024.0</td>\n",
       "      <td>2.0</td>\n",
       "      <td>1.0</td>\n",
       "      <td>3.0</td>\n",
       "      <td>NaN</td>\n",
       "      <td>NaN</td>\n",
       "      <td>NaN</td>\n",
       "      <td>1-20 pre campana</td>\n",
       "    </tr>\n",
       "    <tr>\n",
       "      <th>4</th>\n",
       "      <td>$97</td>\n",
       "      <td>$126</td>\n",
       "      <td>$222</td>\n",
       "      <td>$74</td>\n",
       "      <td>$74</td>\n",
       "      <td>-15.0</td>\n",
       "      <td>2024</td>\n",
       "      <td>6-Apr</td>\n",
       "      <td>14.0</td>\n",
       "      <td>-15.0</td>\n",
       "      <td>2024.0</td>\n",
       "      <td>NaN</td>\n",
       "      <td>3.0</td>\n",
       "      <td>3.0</td>\n",
       "      <td>NaN</td>\n",
       "      <td>NaN</td>\n",
       "      <td>NaN</td>\n",
       "      <td>28 sorteo</td>\n",
       "    </tr>\n",
       "    <tr>\n",
       "      <th>...</th>\n",
       "      <td>...</td>\n",
       "      <td>...</td>\n",
       "      <td>...</td>\n",
       "      <td>...</td>\n",
       "      <td>...</td>\n",
       "      <td>...</td>\n",
       "      <td>...</td>\n",
       "      <td>...</td>\n",
       "      <td>...</td>\n",
       "      <td>...</td>\n",
       "      <td>...</td>\n",
       "      <td>...</td>\n",
       "      <td>...</td>\n",
       "      <td>...</td>\n",
       "      <td>...</td>\n",
       "      <td>...</td>\n",
       "      <td>...</td>\n",
       "      <td>...</td>\n",
       "    </tr>\n",
       "    <tr>\n",
       "      <th>344</th>\n",
       "      <td>NaN</td>\n",
       "      <td>NaN</td>\n",
       "      <td>NaN</td>\n",
       "      <td>NaN</td>\n",
       "      <td>NaN</td>\n",
       "      <td>NaN</td>\n",
       "      <td>NaN</td>\n",
       "      <td>NaN</td>\n",
       "      <td>NaN</td>\n",
       "      <td>NaN</td>\n",
       "      <td>NaN</td>\n",
       "      <td>NaN</td>\n",
       "      <td>NaN</td>\n",
       "      <td>NaN</td>\n",
       "      <td>NaN</td>\n",
       "      <td>NaN</td>\n",
       "      <td>NaN</td>\n",
       "      <td>NaN</td>\n",
       "    </tr>\n",
       "    <tr>\n",
       "      <th>345</th>\n",
       "      <td>NaN</td>\n",
       "      <td>NaN</td>\n",
       "      <td>NaN</td>\n",
       "      <td>NaN</td>\n",
       "      <td>NaN</td>\n",
       "      <td>NaN</td>\n",
       "      <td>NaN</td>\n",
       "      <td>NaN</td>\n",
       "      <td>NaN</td>\n",
       "      <td>NaN</td>\n",
       "      <td>NaN</td>\n",
       "      <td>NaN</td>\n",
       "      <td>NaN</td>\n",
       "      <td>NaN</td>\n",
       "      <td>NaN</td>\n",
       "      <td>NaN</td>\n",
       "      <td>NaN</td>\n",
       "      <td>NaN</td>\n",
       "    </tr>\n",
       "    <tr>\n",
       "      <th>346</th>\n",
       "      <td>NaN</td>\n",
       "      <td>NaN</td>\n",
       "      <td>NaN</td>\n",
       "      <td>NaN</td>\n",
       "      <td>NaN</td>\n",
       "      <td>NaN</td>\n",
       "      <td>NaN</td>\n",
       "      <td>NaN</td>\n",
       "      <td>NaN</td>\n",
       "      <td>NaN</td>\n",
       "      <td>NaN</td>\n",
       "      <td>NaN</td>\n",
       "      <td>NaN</td>\n",
       "      <td>NaN</td>\n",
       "      <td>NaN</td>\n",
       "      <td>NaN</td>\n",
       "      <td>NaN</td>\n",
       "      <td>NaN</td>\n",
       "    </tr>\n",
       "    <tr>\n",
       "      <th>347</th>\n",
       "      <td>NaN</td>\n",
       "      <td>NaN</td>\n",
       "      <td>NaN</td>\n",
       "      <td>NaN</td>\n",
       "      <td>NaN</td>\n",
       "      <td>NaN</td>\n",
       "      <td>NaN</td>\n",
       "      <td>NaN</td>\n",
       "      <td>NaN</td>\n",
       "      <td>NaN</td>\n",
       "      <td>NaN</td>\n",
       "      <td>NaN</td>\n",
       "      <td>NaN</td>\n",
       "      <td>NaN</td>\n",
       "      <td>NaN</td>\n",
       "      <td>NaN</td>\n",
       "      <td>NaN</td>\n",
       "      <td>NaN</td>\n",
       "    </tr>\n",
       "    <tr>\n",
       "      <th>348</th>\n",
       "      <td>NaN</td>\n",
       "      <td>NaN</td>\n",
       "      <td>NaN</td>\n",
       "      <td>NaN</td>\n",
       "      <td>NaN</td>\n",
       "      <td>NaN</td>\n",
       "      <td>NaN</td>\n",
       "      <td>NaN</td>\n",
       "      <td>NaN</td>\n",
       "      <td>NaN</td>\n",
       "      <td>NaN</td>\n",
       "      <td>NaN</td>\n",
       "      <td>NaN</td>\n",
       "      <td>NaN</td>\n",
       "      <td>NaN</td>\n",
       "      <td>NaN</td>\n",
       "      <td>NaN</td>\n",
       "      <td>NaN</td>\n",
       "    </tr>\n",
       "  </tbody>\n",
       "</table>\n",
       "<p>349 rows × 18 columns</p>\n",
       "</div>"
      ],
      "text/plain": [
       "    Facebook Google Paid Media   CPA CPA solo pledge   Dia  Year  Fecha  \\\n",
       "0        $56   $253       $308  $308              $0 -19.0  2024  1-Apr   \n",
       "1        $52   $293       $346  $173            $346 -18.0  2024  2-Apr   \n",
       "2        $50   $236       $287  $143              $0 -17.0  2024  3-Apr   \n",
       "3        $54   $234       $288   $96            $288 -16.0  2024  5-Apr   \n",
       "4        $97   $126       $222   $74             $74 -15.0  2024  6-Apr   \n",
       "..       ...    ...        ...   ...             ...   ...   ...    ...   \n",
       "344      NaN    NaN        NaN   NaN             NaN   NaN   NaN    NaN   \n",
       "345      NaN    NaN        NaN   NaN             NaN   NaN   NaN    NaN   \n",
       "346      NaN    NaN        NaN   NaN             NaN   NaN   NaN    NaN   \n",
       "347      NaN    NaN        NaN   NaN             NaN   NaN   NaN    NaN   \n",
       "348      NaN    NaN        NaN   NaN             NaN   NaN   NaN    NaN   \n",
       "\n",
       "     Semana  Dia.1  Year.1  Donación única  Nueva recurrencia mensual  \\\n",
       "0      14.0  -19.0  2024.0             1.0                        NaN   \n",
       "1      14.0  -18.0  2024.0             1.0                        1.0   \n",
       "2      14.0  -17.0  2024.0             2.0                        NaN   \n",
       "3      14.0  -16.0  2024.0             2.0                        1.0   \n",
       "4      14.0  -15.0  2024.0             NaN                        3.0   \n",
       "..      ...    ...     ...             ...                        ...   \n",
       "344     NaN    NaN     NaN             NaN                        NaN   \n",
       "345     NaN    NaN     NaN             NaN                        NaN   \n",
       "346     NaN    NaN     NaN             NaN                        NaN   \n",
       "347     NaN    NaN     NaN             NaN                        NaN   \n",
       "348     NaN    NaN     NaN             NaN                        NaN   \n",
       "\n",
       "     Total donaciones  Unnamed: 14  Unnamed: 15  Unnamed: 16  \\\n",
       "0                 1.0          NaN          NaN          NaN   \n",
       "1                 2.0          NaN          NaN          NaN   \n",
       "2                 2.0          NaN          NaN          NaN   \n",
       "3                 3.0          NaN          NaN          NaN   \n",
       "4                 3.0          NaN          NaN          NaN   \n",
       "..                ...          ...          ...          ...   \n",
       "344               NaN          NaN          NaN          NaN   \n",
       "345               NaN          NaN          NaN          NaN   \n",
       "346               NaN          NaN          NaN          NaN   \n",
       "347               NaN          NaN          NaN          NaN   \n",
       "348               NaN          NaN          NaN          NaN   \n",
       "\n",
       "                Unnamed: 17  \n",
       "0    semana santa fin marzo  \n",
       "1                       NaN  \n",
       "2        21 abril - teleton  \n",
       "3          1-20 pre campana  \n",
       "4                 28 sorteo  \n",
       "..                      ...  \n",
       "344                     NaN  \n",
       "345                     NaN  \n",
       "346                     NaN  \n",
       "347                     NaN  \n",
       "348                     NaN  \n",
       "\n",
       "[349 rows x 18 columns]"
      ]
     },
     "execution_count": 5,
     "metadata": {},
     "output_type": "execute_result"
    }
   ],
   "source": [
    "df"
   ]
  }
 ],
 "metadata": {
  "interpreter": {
   "hash": "7c77fdb427e7cbc9bc1367dd530fc2b36aacdbbde1ac83c85833b10dfa8b831c"
  },
  "kernelspec": {
   "display_name": "Python 3.7.4 64-bit",
   "language": "python",
   "name": "python3"
  },
  "language_info": {
   "codemirror_mode": {
    "name": "ipython",
    "version": 3
   },
   "file_extension": ".py",
   "mimetype": "text/x-python",
   "name": "python",
   "nbconvert_exporter": "python",
   "pygments_lexer": "ipython3",
   "version": "3.10.14"
  },
  "orig_nbformat": 4
 },
 "nbformat": 4,
 "nbformat_minor": 2
}
