{
 "cells": [
  {
   "cell_type": "code",
   "execution_count": 2,
   "metadata": {},
   "outputs": [
    {
     "name": "stdout",
     "output_type": "stream",
     "text": [
      "Collecting streamlit\n",
      "  Downloading streamlit-1.33.0-py2.py3-none-any.whl.metadata (8.5 kB)\n",
      "Collecting altair<6,>=4.0 (from streamlit)\n",
      "  Downloading altair-5.3.0-py3-none-any.whl.metadata (9.2 kB)\n",
      "Requirement already satisfied: blinker<2,>=1.0.0 in c:\\users\\vviva\\miniconda3\\envs\\eda_env\\lib\\site-packages (from streamlit) (1.7.0)\n",
      "Collecting cachetools<6,>=4.0 (from streamlit)\n",
      "  Downloading cachetools-5.3.3-py3-none-any.whl.metadata (5.3 kB)\n",
      "Requirement already satisfied: click<9,>=7.0 in c:\\users\\vviva\\miniconda3\\envs\\eda_env\\lib\\site-packages (from streamlit) (8.1.7)\n",
      "Requirement already satisfied: numpy<2,>=1.19.3 in c:\\users\\vviva\\miniconda3\\envs\\eda_env\\lib\\site-packages (from streamlit) (1.26.4)\n",
      "Requirement already satisfied: packaging<25,>=16.8 in c:\\users\\vviva\\miniconda3\\envs\\eda_env\\lib\\site-packages (from streamlit) (24.0)\n",
      "Requirement already satisfied: pandas<3,>=1.3.0 in c:\\users\\vviva\\miniconda3\\envs\\eda_env\\lib\\site-packages (from streamlit) (2.2.1)\n",
      "Requirement already satisfied: pillow<11,>=7.1.0 in c:\\users\\vviva\\miniconda3\\envs\\eda_env\\lib\\site-packages (from streamlit) (10.2.0)\n",
      "Collecting protobuf<5,>=3.20 (from streamlit)\n",
      "  Downloading protobuf-4.25.3-cp310-abi3-win_amd64.whl.metadata (541 bytes)\n",
      "Collecting pyarrow>=7.0 (from streamlit)\n",
      "  Downloading pyarrow-16.0.0-cp310-cp310-win_amd64.whl.metadata (3.1 kB)\n",
      "Requirement already satisfied: requests<3,>=2.27 in c:\\users\\vviva\\miniconda3\\envs\\eda_env\\lib\\site-packages (from streamlit) (2.31.0)\n",
      "Collecting rich<14,>=10.14.0 (from streamlit)\n",
      "  Downloading rich-13.7.1-py3-none-any.whl.metadata (18 kB)\n",
      "Requirement already satisfied: tenacity<9,>=8.1.0 in c:\\users\\vviva\\miniconda3\\envs\\eda_env\\lib\\site-packages (from streamlit) (8.2.3)\n",
      "Collecting toml<2,>=0.10.1 (from streamlit)\n",
      "  Downloading toml-0.10.2-py2.py3-none-any.whl.metadata (7.1 kB)\n",
      "Requirement already satisfied: typing-extensions<5,>=4.3.0 in c:\\users\\vviva\\miniconda3\\envs\\eda_env\\lib\\site-packages (from streamlit) (4.10.0)\n",
      "Collecting gitpython!=3.1.19,<4,>=3.0.7 (from streamlit)\n",
      "  Downloading GitPython-3.1.43-py3-none-any.whl.metadata (13 kB)\n",
      "Collecting pydeck<1,>=0.8.0b4 (from streamlit)\n",
      "  Downloading pydeck-0.9.0-py2.py3-none-any.whl.metadata (4.1 kB)\n",
      "Requirement already satisfied: tornado<7,>=6.0.3 in c:\\users\\vviva\\miniconda3\\envs\\eda_env\\lib\\site-packages (from streamlit) (6.4)\n",
      "Collecting watchdog>=2.1.5 (from streamlit)\n",
      "  Downloading watchdog-4.0.0-py3-none-win_amd64.whl.metadata (37 kB)\n",
      "Requirement already satisfied: jinja2 in c:\\users\\vviva\\miniconda3\\envs\\eda_env\\lib\\site-packages (from altair<6,>=4.0->streamlit) (3.1.3)\n",
      "Requirement already satisfied: jsonschema>=3.0 in c:\\users\\vviva\\miniconda3\\envs\\eda_env\\lib\\site-packages (from altair<6,>=4.0->streamlit) (4.21.1)\n",
      "Collecting toolz (from altair<6,>=4.0->streamlit)\n",
      "  Downloading toolz-0.12.1-py3-none-any.whl.metadata (5.1 kB)\n",
      "Requirement already satisfied: colorama in c:\\users\\vviva\\miniconda3\\envs\\eda_env\\lib\\site-packages (from click<9,>=7.0->streamlit) (0.4.6)\n",
      "Collecting gitdb<5,>=4.0.1 (from gitpython!=3.1.19,<4,>=3.0.7->streamlit)\n",
      "  Downloading gitdb-4.0.11-py3-none-any.whl.metadata (1.2 kB)\n",
      "Requirement already satisfied: python-dateutil>=2.8.2 in c:\\users\\vviva\\miniconda3\\envs\\eda_env\\lib\\site-packages (from pandas<3,>=1.3.0->streamlit) (2.9.0.post0)\n",
      "Requirement already satisfied: pytz>=2020.1 in c:\\users\\vviva\\miniconda3\\envs\\eda_env\\lib\\site-packages (from pandas<3,>=1.3.0->streamlit) (2024.1)\n",
      "Requirement already satisfied: tzdata>=2022.7 in c:\\users\\vviva\\miniconda3\\envs\\eda_env\\lib\\site-packages (from pandas<3,>=1.3.0->streamlit) (2024.1)\n",
      "Requirement already satisfied: charset-normalizer<4,>=2 in c:\\users\\vviva\\miniconda3\\envs\\eda_env\\lib\\site-packages (from requests<3,>=2.27->streamlit) (3.3.2)\n",
      "Requirement already satisfied: idna<4,>=2.5 in c:\\users\\vviva\\miniconda3\\envs\\eda_env\\lib\\site-packages (from requests<3,>=2.27->streamlit) (3.6)\n",
      "Requirement already satisfied: urllib3<3,>=1.21.1 in c:\\users\\vviva\\miniconda3\\envs\\eda_env\\lib\\site-packages (from requests<3,>=2.27->streamlit) (2.2.1)\n",
      "Requirement already satisfied: certifi>=2017.4.17 in c:\\users\\vviva\\miniconda3\\envs\\eda_env\\lib\\site-packages (from requests<3,>=2.27->streamlit) (2024.2.2)\n",
      "Collecting markdown-it-py>=2.2.0 (from rich<14,>=10.14.0->streamlit)\n",
      "  Downloading markdown_it_py-3.0.0-py3-none-any.whl.metadata (6.9 kB)\n",
      "Requirement already satisfied: pygments<3.0.0,>=2.13.0 in c:\\users\\vviva\\miniconda3\\envs\\eda_env\\lib\\site-packages (from rich<14,>=10.14.0->streamlit) (2.17.2)\n",
      "Collecting smmap<6,>=3.0.1 (from gitdb<5,>=4.0.1->gitpython!=3.1.19,<4,>=3.0.7->streamlit)\n",
      "  Downloading smmap-5.0.1-py3-none-any.whl.metadata (4.3 kB)\n",
      "Requirement already satisfied: MarkupSafe>=2.0 in c:\\users\\vviva\\miniconda3\\envs\\eda_env\\lib\\site-packages (from jinja2->altair<6,>=4.0->streamlit) (2.1.5)\n",
      "Requirement already satisfied: attrs>=22.2.0 in c:\\users\\vviva\\miniconda3\\envs\\eda_env\\lib\\site-packages (from jsonschema>=3.0->altair<6,>=4.0->streamlit) (23.2.0)\n",
      "Requirement already satisfied: jsonschema-specifications>=2023.03.6 in c:\\users\\vviva\\miniconda3\\envs\\eda_env\\lib\\site-packages (from jsonschema>=3.0->altair<6,>=4.0->streamlit) (2023.12.1)\n",
      "Requirement already satisfied: referencing>=0.28.4 in c:\\users\\vviva\\miniconda3\\envs\\eda_env\\lib\\site-packages (from jsonschema>=3.0->altair<6,>=4.0->streamlit) (0.34.0)\n",
      "Requirement already satisfied: rpds-py>=0.7.1 in c:\\users\\vviva\\miniconda3\\envs\\eda_env\\lib\\site-packages (from jsonschema>=3.0->altair<6,>=4.0->streamlit) (0.18.0)\n",
      "Collecting mdurl~=0.1 (from markdown-it-py>=2.2.0->rich<14,>=10.14.0->streamlit)\n",
      "  Downloading mdurl-0.1.2-py3-none-any.whl.metadata (1.6 kB)\n",
      "Requirement already satisfied: six>=1.5 in c:\\users\\vviva\\miniconda3\\envs\\eda_env\\lib\\site-packages (from python-dateutil>=2.8.2->pandas<3,>=1.3.0->streamlit) (1.16.0)\n",
      "Downloading streamlit-1.33.0-py2.py3-none-any.whl (8.1 MB)\n",
      "   ---------------------------------------- 0.0/8.1 MB ? eta -:--:--\n",
      "   -- ------------------------------------- 0.5/8.1 MB 16.0 MB/s eta 0:00:01\n",
      "   ------ --------------------------------- 1.2/8.1 MB 15.6 MB/s eta 0:00:01\n",
      "   ----------- ---------------------------- 2.3/8.1 MB 18.4 MB/s eta 0:00:01\n",
      "   ---------------- ----------------------- 3.3/8.1 MB 20.9 MB/s eta 0:00:01\n",
      "   ---------------------- ----------------- 4.5/8.1 MB 22.1 MB/s eta 0:00:01\n",
      "   --------------------------- ------------ 5.7/8.1 MB 21.4 MB/s eta 0:00:01\n",
      "   --------------------------------- ------ 6.9/8.1 MB 23.1 MB/s eta 0:00:01\n",
      "   -------------------------------------- - 7.8/8.1 MB 22.7 MB/s eta 0:00:01\n",
      "   ---------------------------------------  8.1/8.1 MB 22.6 MB/s eta 0:00:01\n",
      "   ---------------------------------------- 8.1/8.1 MB 20.8 MB/s eta 0:00:00\n",
      "Downloading altair-5.3.0-py3-none-any.whl (857 kB)\n",
      "   ---------------------------------------- 0.0/857.8 kB ? eta -:--:--\n",
      "   --------------------------------------- 857.8/857.8 kB 18.0 MB/s eta 0:00:00\n",
      "Downloading cachetools-5.3.3-py3-none-any.whl (9.3 kB)\n",
      "Downloading GitPython-3.1.43-py3-none-any.whl (207 kB)\n",
      "   ---------------------------------------- 0.0/207.3 kB ? eta -:--:--\n",
      "   --------------------------------------- 207.3/207.3 kB 12.3 MB/s eta 0:00:00\n",
      "Downloading protobuf-4.25.3-cp310-abi3-win_amd64.whl (413 kB)\n",
      "   ---------------------------------------- 0.0/413.4 kB ? eta -:--:--\n",
      "   --------------------------------------- 413.4/413.4 kB 13.0 MB/s eta 0:00:00\n",
      "Downloading pyarrow-16.0.0-cp310-cp310-win_amd64.whl (25.9 MB)\n",
      "   ---------------------------------------- 0.0/25.9 MB ? eta -:--:--\n",
      "   - -------------------------------------- 1.3/25.9 MB 20.6 MB/s eta 0:00:02\n",
      "   --- ------------------------------------ 2.4/25.9 MB 25.9 MB/s eta 0:00:01\n",
      "   ------ --------------------------------- 4.0/25.9 MB 28.2 MB/s eta 0:00:01\n",
      "   ------ --------------------------------- 4.2/25.9 MB 26.8 MB/s eta 0:00:01\n",
      "   ------- -------------------------------- 5.0/25.9 MB 21.5 MB/s eta 0:00:01\n",
      "   --------- ------------------------------ 6.3/25.9 MB 21.1 MB/s eta 0:00:01\n",
      "   ----------- ---------------------------- 7.3/25.9 MB 22.2 MB/s eta 0:00:01\n",
      "   ------------- -------------------------- 8.5/25.9 MB 21.8 MB/s eta 0:00:01\n",
      "   -------------- ------------------------- 9.5/25.9 MB 22.6 MB/s eta 0:00:01\n",
      "   ---------------- ----------------------- 10.7/25.9 MB 21.8 MB/s eta 0:00:01\n",
      "   ----------------- ---------------------- 11.5/25.9 MB 21.1 MB/s eta 0:00:01\n",
      "   ------------------- -------------------- 12.8/25.9 MB 21.8 MB/s eta 0:00:01\n",
      "   --------------------- ------------------ 13.9/25.9 MB 21.1 MB/s eta 0:00:01\n",
      "   ----------------------- ---------------- 14.9/25.9 MB 24.2 MB/s eta 0:00:01\n",
      "   ------------------------- -------------- 16.4/25.9 MB 23.4 MB/s eta 0:00:01\n",
      "   --------------------------- ------------ 17.6/25.9 MB 23.4 MB/s eta 0:00:01\n",
      "   ----------------------------- ---------- 18.9/25.9 MB 24.2 MB/s eta 0:00:01\n",
      "   ------------------------------ --------- 19.7/25.9 MB 23.4 MB/s eta 0:00:01\n",
      "   ------------------------------- -------- 20.2/25.9 MB 23.4 MB/s eta 0:00:01\n",
      "   -------------------------------- ------- 21.3/25.9 MB 25.2 MB/s eta 0:00:01\n",
      "   ----------------------------------- ---- 22.7/25.9 MB 23.4 MB/s eta 0:00:01\n",
      "   ------------------------------------ --- 23.8/25.9 MB 22.6 MB/s eta 0:00:01\n",
      "   -------------------------------------- - 24.8/25.9 MB 21.8 MB/s eta 0:00:01\n",
      "   ---------------------------------------  25.6/25.9 MB 21.8 MB/s eta 0:00:01\n",
      "   ---------------------------------------  25.9/25.9 MB 21.1 MB/s eta 0:00:01\n",
      "   ---------------------------------------  25.9/25.9 MB 21.1 MB/s eta 0:00:01\n",
      "   ---------------------------------------- 25.9/25.9 MB 17.2 MB/s eta 0:00:00\n",
      "Downloading pydeck-0.9.0-py2.py3-none-any.whl (6.9 MB)\n",
      "   ---------------------------------------- 0.0/6.9 MB ? eta -:--:--\n",
      "   ------ --------------------------------- 1.2/6.9 MB 24.6 MB/s eta 0:00:01\n",
      "   ------------ --------------------------- 2.2/6.9 MB 23.4 MB/s eta 0:00:01\n",
      "   -------------------- ------------------- 3.5/6.9 MB 24.8 MB/s eta 0:00:01\n",
      "   --------------------------- ------------ 4.7/6.9 MB 24.7 MB/s eta 0:00:01\n",
      "   ----------------------------------- ---- 6.1/6.9 MB 25.8 MB/s eta 0:00:01\n",
      "   ---------------------------------------  6.9/6.9 MB 25.9 MB/s eta 0:00:01\n",
      "   ---------------------------------------- 6.9/6.9 MB 22.0 MB/s eta 0:00:00\n",
      "Downloading rich-13.7.1-py3-none-any.whl (240 kB)\n",
      "   ---------------------------------------- 0.0/240.7 kB ? eta -:--:--\n",
      "   ---------------------------------------- 240.7/240.7 kB ? eta 0:00:00\n",
      "Downloading toml-0.10.2-py2.py3-none-any.whl (16 kB)\n",
      "Downloading watchdog-4.0.0-py3-none-win_amd64.whl (82 kB)\n",
      "   ---------------------------------------- 0.0/82.9 kB ? eta -:--:--\n",
      "   ---------------------------------------- 82.9/82.9 kB 4.5 MB/s eta 0:00:00\n",
      "Downloading gitdb-4.0.11-py3-none-any.whl (62 kB)\n",
      "   ---------------------------------------- 0.0/62.7 kB ? eta -:--:--\n",
      "   ---------------------------------------- 62.7/62.7 kB 3.3 MB/s eta 0:00:00\n",
      "Downloading markdown_it_py-3.0.0-py3-none-any.whl (87 kB)\n",
      "   ---------------------------------------- 0.0/87.5 kB ? eta -:--:--\n",
      "   ---------------------------------------- 87.5/87.5 kB ? eta 0:00:00\n",
      "Downloading toolz-0.12.1-py3-none-any.whl (56 kB)\n",
      "   ---------------------------------------- 0.0/56.1 kB ? eta -:--:--\n",
      "   ---------------------------------------- 56.1/56.1 kB 2.9 MB/s eta 0:00:00\n",
      "Downloading mdurl-0.1.2-py3-none-any.whl (10.0 kB)\n",
      "Downloading smmap-5.0.1-py3-none-any.whl (24 kB)\n",
      "Installing collected packages: watchdog, toolz, toml, smmap, pyarrow, protobuf, mdurl, cachetools, pydeck, markdown-it-py, gitdb, rich, gitpython, altair, streamlit\n",
      "Successfully installed altair-5.3.0 cachetools-5.3.3 gitdb-4.0.11 gitpython-3.1.43 markdown-it-py-3.0.0 mdurl-0.1.2 protobuf-4.25.3 pyarrow-16.0.0 pydeck-0.9.0 rich-13.7.1 smmap-5.0.1 streamlit-1.33.0 toml-0.10.2 toolz-0.12.1 watchdog-4.0.0\n",
      "Note: you may need to restart the kernel to use updated packages.\n"
     ]
    }
   ],
   "source": [
    "#pip install streamlit"
   ]
  },
  {
   "cell_type": "code",
   "execution_count": 32,
   "metadata": {},
   "outputs": [],
   "source": [
    "\n",
    "def main():\n",
    "    st.title('My Streamlit App')\n",
    "    st.write('Hello, world!')\n",
    "\n",
    "if __name__ == '__main__':\n",
    "    main()\n"
   ]
  },
  {
   "cell_type": "code",
   "execution_count": 33,
   "metadata": {},
   "outputs": [],
   "source": [
    "import streamlit as st\n"
   ]
  },
  {
   "cell_type": "code",
   "execution_count": 34,
   "metadata": {},
   "outputs": [
    {
     "ename": "SyntaxError",
     "evalue": "invalid syntax (507122745.py, line 1)",
     "output_type": "error",
     "traceback": [
      "\u001b[1;36m  Cell \u001b[1;32mIn[34], line 1\u001b[1;36m\u001b[0m\n\u001b[1;33m    streamlit run app.py\u001b[0m\n\u001b[1;37m              ^\u001b[0m\n\u001b[1;31mSyntaxError\u001b[0m\u001b[1;31m:\u001b[0m invalid syntax\n"
     ]
    }
   ],
   "source": [
    "streamlit run app.py\n"
   ]
  },
  {
   "cell_type": "code",
   "execution_count": 2,
   "metadata": {},
   "outputs": [],
   "source": [
    "st.set_page_config(\n",
    "    page_title=\"Ex-stream-ly Cool App\",\n",
    "    page_icon=\"🧊\",\n",
    "    layout=\"wide\",\n",
    "    initial_sidebar_state=\"expanded\",\n",
    "    menu_items={\n",
    "        'Get Help': 'https://www.extremelycoolapp.com/help',\n",
    "        'Report a bug': \"https://www.extremelycoolapp.com/bug\",\n",
    "        'About': \"# This is a header. This is an *extremely* cool app!\"\n",
    "    }\n",
    ")"
   ]
  },
  {
   "cell_type": "code",
   "execution_count": 3,
   "metadata": {},
   "outputs": [],
   "source": [
    "import pandas as pd"
   ]
  },
  {
   "cell_type": "code",
   "execution_count": 8,
   "metadata": {},
   "outputs": [],
   "source": [
    "df = pd.read_csv(r\"C:\\Users\\vviva\\OneDrive\\Desktop\\Bootcamp\\Aqui si Data Science\\Talleres\\Streamlit\\streamlit\\data\\red_recarga_acceso_publico_2021.csv\", sep=\";\")"
   ]
  },
  {
   "cell_type": "code",
   "execution_count": 9,
   "metadata": {},
   "outputs": [],
   "source": [
    "df2 = st.file_uploader"
   ]
  },
  {
   "cell_type": "code",
   "execution_count": 14,
   "metadata": {},
   "outputs": [],
   "source": [
    "uploaded_file = st.file_uploader(\"Choose a file\")\n",
    "if uploaded_file is not None:\n",
    "\n",
    "    try:\n",
    "        df = pd.read_csv(uploaded_file)\n",
    "     \n",
    "    except:\n",
    "        try:\n",
    "            df=pd.read_csv(uploaded_file, sep=\";\")\n",
    "\n",
    "        except:\n",
    "            pass\n",
    "st.write(df)"
   ]
  },
  {
   "cell_type": "code",
   "execution_count": 17,
   "metadata": {},
   "outputs": [
    {
     "data": {
      "text/plain": [
       "DeltaGenerator()"
      ]
     },
     "execution_count": 17,
     "metadata": {},
     "output_type": "execute_result"
    }
   ],
   "source": [
    "import streamlit as st\n",
    "\n",
    "st.title('Holi')\n",
    "st.title('blue[CARGATRON] :sunglasses:')"
   ]
  },
  {
   "cell_type": "code",
   "execution_count": 19,
   "metadata": {},
   "outputs": [],
   "source": [
    "import numpy as np"
   ]
  },
  {
   "cell_type": "code",
   "execution_count": null,
   "metadata": {},
   "outputs": [],
   "source": [
    "map_df= pd.DataFrame"
   ]
  },
  {
   "cell_type": "code",
   "execution_count": 20,
   "metadata": {},
   "outputs": [],
   "source": [
    "option = st.selectbox(\n",
    "    'How would you like to be contacted?',\n",
    "    ('Email', 'Home phone', 'Mobile phone'))\n",
    "\n",
    "st.write('You selected:', option)"
   ]
  },
  {
   "cell_type": "code",
   "execution_count": 27,
   "metadata": {},
   "outputs": [
    {
     "ename": "IndentationError",
     "evalue": "unindent does not match any outer indentation level (<tokenize>, line 67)",
     "output_type": "error",
     "traceback": [
      "\u001b[1;36m  File \u001b[1;32m<tokenize>:67\u001b[1;36m\u001b[0m\n\u001b[1;33m    st.dataframe(df)\u001b[0m\n\u001b[1;37m    ^\u001b[0m\n\u001b[1;31mIndentationError\u001b[0m\u001b[1;31m:\u001b[0m unindent does not match any outer indentation level\n"
     ]
    }
   ],
   "source": [
    "import streamlit as st\n",
    "import pandas as pd\n",
    "import numpy as np\n",
    "\n",
    "\n",
    "# CONFIGURACION PAGINA\n",
    "st.set_page_config(\n",
    "    page_title=\"Ex-stream-ly Cool App\",\n",
    "    page_icon=\"🧊\",\n",
    "    layout=\"wide\",\n",
    "    initial_sidebar_state=\"expanded\",\n",
    "    menu_items={\n",
    "        'Get Help': 'https://www.extremelycoolapp.com/help',\n",
    "        'Report a bug': \"https://www.extremelycoolapp.com/bug\",\n",
    "        'About': \"# This is a header. This is an *extremely* cool app!\"\n",
    "    }\n",
    ")\n",
    "\n",
    "# SELECTBOX DE NAVEGACION\n",
    "option = st.sidebar.selectbox(\n",
    "    'Que pagina quieres visitar',\n",
    "    ('Home', 'Data', 'Map'))\n",
    "\n",
    "st.sidebar.write('You selected:', option)\n",
    "\n",
    "# CARGAMOS DATOS\n",
    "df = pd.read_csv(\"data/red_recarga_acceso_publico_2021.csv\", sep=\";\")\n",
    "uploaded_file = st.file_uploader(\"Choose a file\")\n",
    "if uploaded_file is not None:\n",
    "\n",
    "\n",
    "    # Can be used wherever a \"file-like\" object is accepted:\n",
    "    try:\n",
    "        df = pd.read_csv(uploaded_file)\n",
    "        \n",
    "    except:\n",
    "        try:\n",
    "            df = pd.read_csv(uploaded_file, sep= \";\")\n",
    "            \n",
    "        except:\n",
    "            pass\n",
    "\n",
    "\n",
    "# TITULO\n",
    "st.title(':blue[CARGATRON] :sunglasses:')\n",
    "\n",
    "# OPCION HOME (PAGINA INICIO)\n",
    "if option == \"Home\":\n",
    "\n",
    "    st.image('https://cdn11.bigcommerce.com/s-30c33/images/stencil/500x659/products/3935/6387/DeisisNewSmall__73630.1687976101.jpg?c=2', caption='Sunrise by the mountains')\n",
    "\n",
    "    with st.expander(\"Haz click para ver mas info\"):\n",
    "        st.write(\"\"\"\n",
    "            Sueño contigo que me has dado, sin tu cariño no me habria enamorado.\n",
    "        \"\"\")\n",
    "        \n",
    "elif option == \"Data\":     # OPCION DATA, VISUALIZAMOS DATAFRAME   \n",
    "     st.subheader(\"DATA PAGE\")\n",
    "\n",
    "     operador = st.selectbox(\"SELECCIONA OPERADOR\",\n",
    "                  df.loc[:, \"OPERADOR\"].unique())  \n",
    "     subset_df = df.loc[df.loc[:, \"OPERADOR\"]== operador, :]\n",
    "     st.dataframe(subset_df) \n",
    "      \n",
    "    #st.write(operador)\n",
    "\n",
    "    st.dataframe(df)\n",
    "    # st.balloons()\n",
    "\n",
    "else: # OPCION MAPA ()\n",
    "\n",
    "\n",
    "    map_df = pd.DataFrame({\"lat\":df.loc[:, \"latidtud\"],\n",
    "                        \"lon\":  df.loc[:, \"longitud\"]}\n",
    "        )\n",
    "\n",
    "    st.map(map_df)"
   ]
  },
  {
   "cell_type": "code",
   "execution_count": 28,
   "metadata": {},
   "outputs": [],
   "source": [
    "a = np.array([1,2,3,4])"
   ]
  },
  {
   "cell_type": "code",
   "execution_count": 29,
   "metadata": {},
   "outputs": [
    {
     "data": {
      "text/plain": [
       "[0, 1, 2, 3, 4]"
      ]
     },
     "execution_count": 29,
     "metadata": {},
     "output_type": "execute_result"
    }
   ],
   "source": [
    "[0] + list(a)"
   ]
  },
  {
   "cell_type": "code",
   "execution_count": null,
   "metadata": {},
   "outputs": [],
   "source": []
  }
 ],
 "metadata": {
  "kernelspec": {
   "display_name": "EDA_ENV",
   "language": "python",
   "name": "python3"
  },
  "language_info": {
   "codemirror_mode": {
    "name": "ipython",
    "version": 3
   },
   "file_extension": ".py",
   "mimetype": "text/x-python",
   "name": "python",
   "nbconvert_exporter": "python",
   "pygments_lexer": "ipython3",
   "version": "3.10.14"
  }
 },
 "nbformat": 4,
 "nbformat_minor": 2
}
